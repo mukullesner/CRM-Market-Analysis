{
 "cells": [
  {
   "cell_type": "markdown",
   "id": "3398f5ea",
   "metadata": {},
   "source": [
    "## Installing Dependent Packages\n"
   ]
  },
  {
   "cell_type": "code",
   "execution_count": 1,
   "id": "b173e666",
   "metadata": {},
   "outputs": [],
   "source": [
    "import numpy as np\n",
    "import pandas as pd\n",
    "import matplotlib.pyplot as plt\n",
    "import seaborn as sns\n",
    "import time"
   ]
  },
  {
   "cell_type": "code",
   "execution_count": 2,
   "id": "95b72566",
   "metadata": {},
   "outputs": [],
   "source": [
    "df = pd.read_csv(\"./marketing_data.csv\")"
   ]
  },
  {
   "cell_type": "code",
   "execution_count": 3,
   "id": "3e14f0a3",
   "metadata": {},
   "outputs": [
    {
     "data": {
      "text/html": [
       "<div>\n",
       "<style scoped>\n",
       "    .dataframe tbody tr th:only-of-type {\n",
       "        vertical-align: middle;\n",
       "    }\n",
       "\n",
       "    .dataframe tbody tr th {\n",
       "        vertical-align: top;\n",
       "    }\n",
       "\n",
       "    .dataframe thead th {\n",
       "        text-align: right;\n",
       "    }\n",
       "</style>\n",
       "<table border=\"1\" class=\"dataframe\">\n",
       "  <thead>\n",
       "    <tr style=\"text-align: right;\">\n",
       "      <th></th>\n",
       "      <th>ID</th>\n",
       "      <th>Year_Birth</th>\n",
       "      <th>Education</th>\n",
       "      <th>Marital_Status</th>\n",
       "      <th>Income</th>\n",
       "      <th>Kidhome</th>\n",
       "      <th>Teenhome</th>\n",
       "      <th>Dt_Customer</th>\n",
       "      <th>Recency</th>\n",
       "      <th>MntWines</th>\n",
       "      <th>...</th>\n",
       "      <th>NumStorePurchases</th>\n",
       "      <th>NumWebVisitsMonth</th>\n",
       "      <th>AcceptedCmp3</th>\n",
       "      <th>AcceptedCmp4</th>\n",
       "      <th>AcceptedCmp5</th>\n",
       "      <th>AcceptedCmp1</th>\n",
       "      <th>AcceptedCmp2</th>\n",
       "      <th>Response</th>\n",
       "      <th>Complain</th>\n",
       "      <th>Country</th>\n",
       "    </tr>\n",
       "  </thead>\n",
       "  <tbody>\n",
       "    <tr>\n",
       "      <th>0</th>\n",
       "      <td>1826</td>\n",
       "      <td>1970</td>\n",
       "      <td>Graduation</td>\n",
       "      <td>Divorced</td>\n",
       "      <td>$84,835.00</td>\n",
       "      <td>0</td>\n",
       "      <td>0</td>\n",
       "      <td>6/16/14</td>\n",
       "      <td>0</td>\n",
       "      <td>189</td>\n",
       "      <td>...</td>\n",
       "      <td>6</td>\n",
       "      <td>1</td>\n",
       "      <td>0</td>\n",
       "      <td>0</td>\n",
       "      <td>0</td>\n",
       "      <td>0</td>\n",
       "      <td>0</td>\n",
       "      <td>1</td>\n",
       "      <td>0</td>\n",
       "      <td>SP</td>\n",
       "    </tr>\n",
       "    <tr>\n",
       "      <th>1</th>\n",
       "      <td>1</td>\n",
       "      <td>1961</td>\n",
       "      <td>Graduation</td>\n",
       "      <td>Single</td>\n",
       "      <td>$57,091.00</td>\n",
       "      <td>0</td>\n",
       "      <td>0</td>\n",
       "      <td>6/15/14</td>\n",
       "      <td>0</td>\n",
       "      <td>464</td>\n",
       "      <td>...</td>\n",
       "      <td>7</td>\n",
       "      <td>5</td>\n",
       "      <td>0</td>\n",
       "      <td>0</td>\n",
       "      <td>0</td>\n",
       "      <td>0</td>\n",
       "      <td>1</td>\n",
       "      <td>1</td>\n",
       "      <td>0</td>\n",
       "      <td>CA</td>\n",
       "    </tr>\n",
       "    <tr>\n",
       "      <th>2</th>\n",
       "      <td>10476</td>\n",
       "      <td>1958</td>\n",
       "      <td>Graduation</td>\n",
       "      <td>Married</td>\n",
       "      <td>$67,267.00</td>\n",
       "      <td>0</td>\n",
       "      <td>1</td>\n",
       "      <td>5/13/14</td>\n",
       "      <td>0</td>\n",
       "      <td>134</td>\n",
       "      <td>...</td>\n",
       "      <td>5</td>\n",
       "      <td>2</td>\n",
       "      <td>0</td>\n",
       "      <td>0</td>\n",
       "      <td>0</td>\n",
       "      <td>0</td>\n",
       "      <td>0</td>\n",
       "      <td>0</td>\n",
       "      <td>0</td>\n",
       "      <td>US</td>\n",
       "    </tr>\n",
       "    <tr>\n",
       "      <th>3</th>\n",
       "      <td>1386</td>\n",
       "      <td>1967</td>\n",
       "      <td>Graduation</td>\n",
       "      <td>Together</td>\n",
       "      <td>$32,474.00</td>\n",
       "      <td>1</td>\n",
       "      <td>1</td>\n",
       "      <td>5/11/14</td>\n",
       "      <td>0</td>\n",
       "      <td>10</td>\n",
       "      <td>...</td>\n",
       "      <td>2</td>\n",
       "      <td>7</td>\n",
       "      <td>0</td>\n",
       "      <td>0</td>\n",
       "      <td>0</td>\n",
       "      <td>0</td>\n",
       "      <td>0</td>\n",
       "      <td>0</td>\n",
       "      <td>0</td>\n",
       "      <td>AUS</td>\n",
       "    </tr>\n",
       "    <tr>\n",
       "      <th>4</th>\n",
       "      <td>5371</td>\n",
       "      <td>1989</td>\n",
       "      <td>Graduation</td>\n",
       "      <td>Single</td>\n",
       "      <td>$21,474.00</td>\n",
       "      <td>1</td>\n",
       "      <td>0</td>\n",
       "      <td>4/8/14</td>\n",
       "      <td>0</td>\n",
       "      <td>6</td>\n",
       "      <td>...</td>\n",
       "      <td>2</td>\n",
       "      <td>7</td>\n",
       "      <td>1</td>\n",
       "      <td>0</td>\n",
       "      <td>0</td>\n",
       "      <td>0</td>\n",
       "      <td>0</td>\n",
       "      <td>1</td>\n",
       "      <td>0</td>\n",
       "      <td>SP</td>\n",
       "    </tr>\n",
       "  </tbody>\n",
       "</table>\n",
       "<p>5 rows × 28 columns</p>\n",
       "</div>"
      ],
      "text/plain": [
       "      ID  Year_Birth   Education Marital_Status      Income   Kidhome  \\\n",
       "0   1826        1970  Graduation       Divorced  $84,835.00         0   \n",
       "1      1        1961  Graduation         Single  $57,091.00         0   \n",
       "2  10476        1958  Graduation        Married  $67,267.00         0   \n",
       "3   1386        1967  Graduation       Together  $32,474.00         1   \n",
       "4   5371        1989  Graduation         Single  $21,474.00         1   \n",
       "\n",
       "   Teenhome Dt_Customer  Recency  MntWines  ...  NumStorePurchases  \\\n",
       "0         0     6/16/14        0       189  ...                  6   \n",
       "1         0     6/15/14        0       464  ...                  7   \n",
       "2         1     5/13/14        0       134  ...                  5   \n",
       "3         1     5/11/14        0        10  ...                  2   \n",
       "4         0      4/8/14        0         6  ...                  2   \n",
       "\n",
       "   NumWebVisitsMonth  AcceptedCmp3  AcceptedCmp4  AcceptedCmp5  AcceptedCmp1  \\\n",
       "0                  1             0             0             0             0   \n",
       "1                  5             0             0             0             0   \n",
       "2                  2             0             0             0             0   \n",
       "3                  7             0             0             0             0   \n",
       "4                  7             1             0             0             0   \n",
       "\n",
       "   AcceptedCmp2  Response  Complain  Country  \n",
       "0             0         1         0       SP  \n",
       "1             1         1         0       CA  \n",
       "2             0         0         0       US  \n",
       "3             0         0         0      AUS  \n",
       "4             0         1         0       SP  \n",
       "\n",
       "[5 rows x 28 columns]"
      ]
     },
     "execution_count": 3,
     "metadata": {},
     "output_type": "execute_result"
    }
   ],
   "source": [
    "df.head()"
   ]
  },
  {
   "cell_type": "code",
   "execution_count": 4,
   "id": "2a322ca0",
   "metadata": {},
   "outputs": [],
   "source": [
    "def data_info(df):\n",
    "    print('no_of_rows:', df.shape[0], ' no_of_columns:', df.shape[1])\n",
    "    print('This dataset has', df[df.duplicated()].shape[0], 'duplicated_rows')\n",
    "    print(\" \")\n",
    "    print(\"Descriptive statistical information about dataset\")\n",
    "    print(\" \")\n",
    "    print(df.describe())\n",
    "    print(\"Information about this dataset: \")\n",
    "    print(\" \")\n",
    "    print(df.info())"
   ]
  },
  {
   "cell_type": "code",
   "execution_count": 5,
   "id": "173be873",
   "metadata": {},
   "outputs": [
    {
     "name": "stdout",
     "output_type": "stream",
     "text": [
      "no_of_rows: 2240  no_of_columns: 28\n",
      "This dataset has 0 duplicated_rows\n",
      " \n",
      "Descriptive statistical information about dataset\n",
      " \n",
      "                 ID   Year_Birth      Kidhome     Teenhome      Recency  \\\n",
      "count   2240.000000  2240.000000  2240.000000  2240.000000  2240.000000   \n",
      "mean    5592.159821  1968.805804     0.444196     0.506250    49.109375   \n",
      "std     3246.662198    11.984069     0.538398     0.544538    28.962453   \n",
      "min        0.000000  1893.000000     0.000000     0.000000     0.000000   \n",
      "25%     2828.250000  1959.000000     0.000000     0.000000    24.000000   \n",
      "50%     5458.500000  1970.000000     0.000000     0.000000    49.000000   \n",
      "75%     8427.750000  1977.000000     1.000000     1.000000    74.000000   \n",
      "max    11191.000000  1996.000000     2.000000     2.000000    99.000000   \n",
      "\n",
      "          MntWines    MntFruits  MntMeatProducts  MntFishProducts  \\\n",
      "count  2240.000000  2240.000000      2240.000000      2240.000000   \n",
      "mean    303.935714    26.302232       166.950000        37.525446   \n",
      "std     336.597393    39.773434       225.715373        54.628979   \n",
      "min       0.000000     0.000000         0.000000         0.000000   \n",
      "25%      23.750000     1.000000        16.000000         3.000000   \n",
      "50%     173.500000     8.000000        67.000000        12.000000   \n",
      "75%     504.250000    33.000000       232.000000        50.000000   \n",
      "max    1493.000000   199.000000      1725.000000       259.000000   \n",
      "\n",
      "       MntSweetProducts  ...  NumCatalogPurchases  NumStorePurchases  \\\n",
      "count       2240.000000  ...          2240.000000        2240.000000   \n",
      "mean          27.062946  ...             2.662054           5.790179   \n",
      "std           41.280498  ...             2.923101           3.250958   \n",
      "min            0.000000  ...             0.000000           0.000000   \n",
      "25%            1.000000  ...             0.000000           3.000000   \n",
      "50%            8.000000  ...             2.000000           5.000000   \n",
      "75%           33.000000  ...             4.000000           8.000000   \n",
      "max          263.000000  ...            28.000000          13.000000   \n",
      "\n",
      "       NumWebVisitsMonth  AcceptedCmp3  AcceptedCmp4  AcceptedCmp5  \\\n",
      "count        2240.000000   2240.000000   2240.000000   2240.000000   \n",
      "mean            5.316518      0.072768      0.074554      0.072768   \n",
      "std             2.426645      0.259813      0.262728      0.259813   \n",
      "min             0.000000      0.000000      0.000000      0.000000   \n",
      "25%             3.000000      0.000000      0.000000      0.000000   \n",
      "50%             6.000000      0.000000      0.000000      0.000000   \n",
      "75%             7.000000      0.000000      0.000000      0.000000   \n",
      "max            20.000000      1.000000      1.000000      1.000000   \n",
      "\n",
      "       AcceptedCmp1  AcceptedCmp2     Response     Complain  \n",
      "count   2240.000000   2240.000000  2240.000000  2240.000000  \n",
      "mean       0.064286      0.013393     0.149107     0.009375  \n",
      "std        0.245316      0.114976     0.356274     0.096391  \n",
      "min        0.000000      0.000000     0.000000     0.000000  \n",
      "25%        0.000000      0.000000     0.000000     0.000000  \n",
      "50%        0.000000      0.000000     0.000000     0.000000  \n",
      "75%        0.000000      0.000000     0.000000     0.000000  \n",
      "max        1.000000      1.000000     1.000000     1.000000  \n",
      "\n",
      "[8 rows x 23 columns]\n",
      "Information about this dataset: \n",
      " \n",
      "<class 'pandas.core.frame.DataFrame'>\n",
      "RangeIndex: 2240 entries, 0 to 2239\n",
      "Data columns (total 28 columns):\n",
      " #   Column               Non-Null Count  Dtype \n",
      "---  ------               --------------  ----- \n",
      " 0   ID                   2240 non-null   int64 \n",
      " 1   Year_Birth           2240 non-null   int64 \n",
      " 2   Education            2240 non-null   object\n",
      " 3   Marital_Status       2240 non-null   object\n",
      " 4    Income              2216 non-null   object\n",
      " 5   Kidhome              2240 non-null   int64 \n",
      " 6   Teenhome             2240 non-null   int64 \n",
      " 7   Dt_Customer          2240 non-null   object\n",
      " 8   Recency              2240 non-null   int64 \n",
      " 9   MntWines             2240 non-null   int64 \n",
      " 10  MntFruits            2240 non-null   int64 \n",
      " 11  MntMeatProducts      2240 non-null   int64 \n",
      " 12  MntFishProducts      2240 non-null   int64 \n",
      " 13  MntSweetProducts     2240 non-null   int64 \n",
      " 14  MntGoldProds         2240 non-null   int64 \n",
      " 15  NumDealsPurchases    2240 non-null   int64 \n",
      " 16  NumWebPurchases      2240 non-null   int64 \n",
      " 17  NumCatalogPurchases  2240 non-null   int64 \n",
      " 18  NumStorePurchases    2240 non-null   int64 \n",
      " 19  NumWebVisitsMonth    2240 non-null   int64 \n",
      " 20  AcceptedCmp3         2240 non-null   int64 \n",
      " 21  AcceptedCmp4         2240 non-null   int64 \n",
      " 22  AcceptedCmp5         2240 non-null   int64 \n",
      " 23  AcceptedCmp1         2240 non-null   int64 \n",
      " 24  AcceptedCmp2         2240 non-null   int64 \n",
      " 25  Response             2240 non-null   int64 \n",
      " 26  Complain             2240 non-null   int64 \n",
      " 27  Country              2240 non-null   object\n",
      "dtypes: int64(23), object(5)\n",
      "memory usage: 490.1+ KB\n",
      "None\n"
     ]
    }
   ],
   "source": [
    "data_info(df)"
   ]
  },
  {
   "cell_type": "markdown",
   "id": "6655e7b5",
   "metadata": {},
   "source": [
    "### Assessment report: \n",
    "\n",
    "**Quality issues**\n",
    "\n",
    "- There is a space in front of the income's column name\n",
    "- There are dollar signs is the values of Income column\n",
    "- The \"Income\" column has 23 missing values\n",
    "- Income's type is string\n",
    "- Dt_Customer's type is string"
   ]
  },
  {
   "cell_type": "markdown",
   "id": "6c748b84",
   "metadata": {},
   "source": [
    "## 1) Data Cleaning"
   ]
  },
  {
   "cell_type": "code",
   "execution_count": 6,
   "id": "7a8f78f7",
   "metadata": {},
   "outputs": [],
   "source": [
    "# make a copy of the dataframe\n",
    "df_copy = df.copy()"
   ]
  },
  {
   "cell_type": "code",
   "execution_count": 7,
   "id": "23795585",
   "metadata": {},
   "outputs": [
    {
     "data": {
      "text/plain": [
       "Index(['ID', 'Year_Birth', 'Education', 'Marital_Status', ' Income ',\n",
       "       'Kidhome', 'Teenhome', 'Dt_Customer', 'Recency', 'MntWines',\n",
       "       'MntFruits', 'MntMeatProducts', 'MntFishProducts', 'MntSweetProducts',\n",
       "       'MntGoldProds', 'NumDealsPurchases', 'NumWebPurchases',\n",
       "       'NumCatalogPurchases', 'NumStorePurchases', 'NumWebVisitsMonth',\n",
       "       'AcceptedCmp3', 'AcceptedCmp4', 'AcceptedCmp5', 'AcceptedCmp1',\n",
       "       'AcceptedCmp2', 'Response', 'Complain', 'Country'],\n",
       "      dtype='object')"
      ]
     },
     "execution_count": 7,
     "metadata": {},
     "output_type": "execute_result"
    }
   ],
   "source": [
    "df_copy.columns"
   ]
  },
  {
   "cell_type": "markdown",
   "id": "db7a5138",
   "metadata": {},
   "source": [
    "#### Issue 1: There is a space infront of the Income column"
   ]
  },
  {
   "cell_type": "code",
   "execution_count": 8,
   "id": "b7dab8f2",
   "metadata": {},
   "outputs": [],
   "source": [
    "df_copy.rename(columns={' Income ':'Income'}, inplace=True)"
   ]
  },
  {
   "cell_type": "code",
   "execution_count": 9,
   "id": "64d5f633",
   "metadata": {},
   "outputs": [
    {
     "data": {
      "text/plain": [
       "Index(['ID', 'Year_Birth', 'Education', 'Marital_Status', 'Income', 'Kidhome',\n",
       "       'Teenhome', 'Dt_Customer', 'Recency', 'MntWines', 'MntFruits',\n",
       "       'MntMeatProducts', 'MntFishProducts', 'MntSweetProducts',\n",
       "       'MntGoldProds', 'NumDealsPurchases', 'NumWebPurchases',\n",
       "       'NumCatalogPurchases', 'NumStorePurchases', 'NumWebVisitsMonth',\n",
       "       'AcceptedCmp3', 'AcceptedCmp4', 'AcceptedCmp5', 'AcceptedCmp1',\n",
       "       'AcceptedCmp2', 'Response', 'Complain', 'Country'],\n",
       "      dtype='object')"
      ]
     },
     "execution_count": 9,
     "metadata": {},
     "output_type": "execute_result"
    }
   ],
   "source": [
    "df_copy.columns"
   ]
  },
  {
   "cell_type": "markdown",
   "id": "29de1525",
   "metadata": {},
   "source": [
    "#### Issue 3: There are some dollar sign on Income columns so remove them"
   ]
  },
  {
   "cell_type": "code",
   "execution_count": 10,
   "id": "42267501",
   "metadata": {},
   "outputs": [],
   "source": [
    "df_copy.Income = df_copy.Income.str.strip('$')\n",
    "df_copy.Income = df_copy.Income.str.replace(\".\", \"\")\n",
    "df_copy.Income = df_copy.Income.str.replace(\",\", \"\")\n",
    "df_copy.Income = df_copy.Income.str.replace(\"00 \", \"\")"
   ]
  },
  {
   "cell_type": "code",
   "execution_count": 11,
   "id": "655d77b0",
   "metadata": {},
   "outputs": [
    {
     "data": {
      "text/plain": [
       "0       84835\n",
       "1       57091\n",
       "2       67267\n",
       "3       32474\n",
       "4       21474\n",
       "        ...  \n",
       "2235    66476\n",
       "2236    31056\n",
       "2237    46310\n",
       "2238    65819\n",
       "2239    94871\n",
       "Name: Income, Length: 2240, dtype: object"
      ]
     },
     "execution_count": 11,
     "metadata": {},
     "output_type": "execute_result"
    }
   ],
   "source": [
    "df_copy.Income"
   ]
  },
  {
   "cell_type": "code",
   "execution_count": 12,
   "id": "7828f849",
   "metadata": {},
   "outputs": [],
   "source": [
    "#remove the data from the dataframe\n",
    "missing_value = df_copy[df_copy.Income.isnull() == True]\n",
    "have_income = df_copy[df_copy.Income.isnull() == False]"
   ]
  },
  {
   "cell_type": "code",
   "execution_count": 13,
   "id": "cfba7156",
   "metadata": {},
   "outputs": [
    {
     "name": "stdout",
     "output_type": "stream",
     "text": [
      "Number of values with data present = 2216\n",
      "Number of missing values in our dataset = 24\n"
     ]
    }
   ],
   "source": [
    "print(\"Number of values with data present =\",have_income.shape[0])\n",
    "print(\"Number of missing values in our dataset =\",missing_value.shape[0])"
   ]
  },
  {
   "cell_type": "code",
   "execution_count": 14,
   "id": "cb6dedda",
   "metadata": {},
   "outputs": [
    {
     "data": {
      "text/plain": [
       "dtype('O')"
      ]
     },
     "execution_count": 14,
     "metadata": {},
     "output_type": "execute_result"
    }
   ],
   "source": [
    "#check the data type for have income dataframe\n",
    "have_income.Income.dtype ## which is an \"Object\" type"
   ]
  },
  {
   "cell_type": "code",
   "execution_count": 15,
   "id": "145472b9",
   "metadata": {},
   "outputs": [
    {
     "name": "stderr",
     "output_type": "stream",
     "text": [
      "C:\\Users\\USER\\anaconda3\\envs\\DSND\\lib\\site-packages\\pandas\\core\\generic.py:5170: SettingWithCopyWarning: \n",
      "A value is trying to be set on a copy of a slice from a DataFrame.\n",
      "Try using .loc[row_indexer,col_indexer] = value instead\n",
      "\n",
      "See the caveats in the documentation: https://pandas.pydata.org/pandas-docs/stable/user_guide/indexing.html#returning-a-view-versus-a-copy\n",
      "  self[name] = value\n"
     ]
    }
   ],
   "source": [
    "#Convert it into an integer type\n",
    "have_income.Income = have_income.Income.astype(int)"
   ]
  },
  {
   "cell_type": "code",
   "execution_count": 16,
   "id": "5db199f6",
   "metadata": {},
   "outputs": [],
   "source": [
    "missing_value.Income = str(have_income.Income.median())"
   ]
  },
  {
   "cell_type": "code",
   "execution_count": 17,
   "id": "375fa0d0",
   "metadata": {},
   "outputs": [],
   "source": [
    "missing_value.Income = missing_value.Income.str.replace(\".5\", \"\")\n",
    "missing_value.Income = missing_value.Income.astype(int)"
   ]
  },
  {
   "cell_type": "code",
   "execution_count": 18,
   "id": "54185e34",
   "metadata": {},
   "outputs": [],
   "source": [
    "# append the two dataframes into one \n",
    "df_copy = missing_value.append(have_income)"
   ]
  },
  {
   "cell_type": "markdown",
   "id": "1cfc099d",
   "metadata": {},
   "source": [
    "#### **Issue 4: Dt_Customer's type is string**"
   ]
  },
  {
   "cell_type": "code",
   "execution_count": 19,
   "id": "b585000d",
   "metadata": {},
   "outputs": [
    {
     "data": {
      "text/plain": [
       "134    2012-11-19\n",
       "262    2013-11-15\n",
       "394    2014-03-02\n",
       "449    2013-02-20\n",
       "525    2013-07-11\n",
       "          ...    \n",
       "2235   2013-03-07\n",
       "2236   2013-01-22\n",
       "2237   2012-12-03\n",
       "2238   2012-11-29\n",
       "2239   2012-09-01\n",
       "Name: Dt_Customer, Length: 2240, dtype: datetime64[ns]"
      ]
     },
     "execution_count": 19,
     "metadata": {},
     "output_type": "execute_result"
    }
   ],
   "source": [
    "df_copy.Dt_Customer = pd.to_datetime(df_copy.Dt_Customer)\n",
    "df_copy.Dt_Customer"
   ]
  },
  {
   "cell_type": "code",
   "execution_count": 20,
   "id": "d4236b7b",
   "metadata": {},
   "outputs": [],
   "source": [
    "# Store the file\n",
    "df_copy.reset_index(drop=True)\n",
    "df_copy.to_csv('marketing data/clean_marketing_data.csv', index=False)"
   ]
  },
  {
   "cell_type": "markdown",
   "id": "d8d9e843",
   "metadata": {},
   "source": [
    "## 2. Exploratory Data Analysis (EDA)"
   ]
  },
  {
   "cell_type": "code",
   "execution_count": 21,
   "id": "f7213db8",
   "metadata": {},
   "outputs": [],
   "source": [
    "df = pd.read_csv('./marketing data/clean_marketing_data.csv')"
   ]
  },
  {
   "cell_type": "code",
   "execution_count": 22,
   "id": "c4c2f109",
   "metadata": {},
   "outputs": [
    {
     "name": "stdout",
     "output_type": "stream",
     "text": [
      "<class 'pandas.core.frame.DataFrame'>\n",
      "RangeIndex: 2240 entries, 0 to 2239\n",
      "Data columns (total 28 columns):\n",
      " #   Column               Non-Null Count  Dtype \n",
      "---  ------               --------------  ----- \n",
      " 0   ID                   2240 non-null   int64 \n",
      " 1   Year_Birth           2240 non-null   int64 \n",
      " 2   Education            2240 non-null   object\n",
      " 3   Marital_Status       2240 non-null   object\n",
      " 4   Income               2240 non-null   int64 \n",
      " 5   Kidhome              2240 non-null   int64 \n",
      " 6   Teenhome             2240 non-null   int64 \n",
      " 7   Dt_Customer          2240 non-null   object\n",
      " 8   Recency              2240 non-null   int64 \n",
      " 9   MntWines             2240 non-null   int64 \n",
      " 10  MntFruits            2240 non-null   int64 \n",
      " 11  MntMeatProducts      2240 non-null   int64 \n",
      " 12  MntFishProducts      2240 non-null   int64 \n",
      " 13  MntSweetProducts     2240 non-null   int64 \n",
      " 14  MntGoldProds         2240 non-null   int64 \n",
      " 15  NumDealsPurchases    2240 non-null   int64 \n",
      " 16  NumWebPurchases      2240 non-null   int64 \n",
      " 17  NumCatalogPurchases  2240 non-null   int64 \n",
      " 18  NumStorePurchases    2240 non-null   int64 \n",
      " 19  NumWebVisitsMonth    2240 non-null   int64 \n",
      " 20  AcceptedCmp3         2240 non-null   int64 \n",
      " 21  AcceptedCmp4         2240 non-null   int64 \n",
      " 22  AcceptedCmp5         2240 non-null   int64 \n",
      " 23  AcceptedCmp1         2240 non-null   int64 \n",
      " 24  AcceptedCmp2         2240 non-null   int64 \n",
      " 25  Response             2240 non-null   int64 \n",
      " 26  Complain             2240 non-null   int64 \n",
      " 27  Country              2240 non-null   object\n",
      "dtypes: int64(24), object(4)\n",
      "memory usage: 490.1+ KB\n"
     ]
    }
   ],
   "source": [
    "df.info()"
   ]
  },
  {
   "cell_type": "markdown",
   "id": "5ec8b9d7",
   "metadata": {},
   "source": [
    "### 2.1 Check for Outliers"
   ]
  },
  {
   "cell_type": "code",
   "execution_count": 23,
   "id": "acfd61e5",
   "metadata": {},
   "outputs": [
    {
     "data": {
      "text/plain": [
       "Text(0.5, 0.9, 'Finding Outliers')"
      ]
     },
     "execution_count": 23,
     "metadata": {},
     "output_type": "execute_result"
    },
    {
     "data": {
      "image/png": "[encoded data removed]",
      "text/plain": [
       "<Figure size 864x1008 with 16 Axes>"
      ]
     },
     "metadata": {
      "needs_background": "light"
     },
     "output_type": "display_data"
    }
   ],
   "source": [
    "# select columns to plot\n",
    "df_to_plot = df.drop(columns=['ID', 'AcceptedCmp1', 'AcceptedCmp2', 'AcceptedCmp3', 'AcceptedCmp4', \n",
    "                              'AcceptedCmp5', 'Response', 'Complain']).select_dtypes(include=['int64'])\n",
    "\n",
    "# subplots\n",
    "df_to_plot.plot(subplots=True, layout=(4,4), kind='box', figsize=(12,14), patch_artist=True)\n",
    "plt.suptitle('Finding Outliers', fontsize=15, y=0.9)"
   ]
  },
  {
   "cell_type": "code",
   "execution_count": 24,
   "id": "71f7a14b",
   "metadata": {},
   "outputs": [
    {
     "data": {
      "text/plain": [
       "count    2240.000000\n",
       "mean     1968.805804\n",
       "std        11.984069\n",
       "min      1893.000000\n",
       "25%      1959.000000\n",
       "50%      1970.000000\n",
       "75%      1977.000000\n",
       "max      1996.000000\n",
       "Name: Year_Birth, dtype: float64"
      ]
     },
     "execution_count": 24,
     "metadata": {},
     "output_type": "execute_result"
    }
   ],
   "source": [
    "df.Year_Birth.describe()"
   ]
  },
  {
   "cell_type": "code",
   "execution_count": 25,
   "id": "abc9ad98",
   "metadata": {},
   "outputs": [
    {
     "data": {
      "text/plain": [
       "count    2237.000000\n",
       "mean     1968.901654\n",
       "std        11.701917\n",
       "min      1940.000000\n",
       "25%      1959.000000\n",
       "50%      1970.000000\n",
       "75%      1977.000000\n",
       "max      1996.000000\n",
       "Name: Year_Birth, dtype: float64"
      ]
     },
     "execution_count": 25,
     "metadata": {},
     "output_type": "execute_result"
    }
   ],
   "source": [
    "# Remove outliers in year_birth in order to get a better distribution under 3rd quartile range\n",
    "\n",
    "new_df = df[df.Year_Birth >= (df.Year_Birth.mean()-3*df.Year_Birth.std())]\n",
    "new_df.Year_Birth.describe()"
   ]
  },
  {
   "cell_type": "markdown",
   "id": "f73dcb23",
   "metadata": {},
   "source": [
    "### 2.2 `Feature Engineering` \n",
    "#### Are there any useful variables that you can engineer with the given data?\n",
    "\n",
    "- Join_year: The year that person became a customer, which can be engineered from \"Dt_Customer\"\n",
    "\n",
    "- Join_month: The month that person became a customer, which can be engineered from \"Dt_Customer\"\n",
    "- Join_weekday: The day of the week that person became a customer, which can be engineered from \"Dt_Customer\"\n",
    "- Minorhome: The total amount of minors in their family, which can be acquired by summing up by Kidhome and Teenhome.\n",
    "- Total_Mnt: Total amount spent in the last two years, which can be acquired by summing up all the \"Mnt\"-related columns\n",
    "- Total_num_purchase: Total number of purchases in the last two years, which can be acquired by summing up all the \"Num\"-related columns\n",
    "- Total_accept: Total amount a customer accepted the offer in marketing campaign, which can be acquired by summing up all the \"Accepted\"-related columns and the \"Response\" column\n",
    "- \"AOV\": AOV stands for the average order volumn of each customer, which can be engineerd by dividing Total_Mnt by Total_num_purchase"
   ]
  },
  {
   "cell_type": "code",
   "execution_count": 26,
   "id": "9dc86e88",
   "metadata": {},
   "outputs": [
    {
     "name": "stderr",
     "output_type": "stream",
     "text": [
      "C:\\Users\\USER\\anaconda3\\envs\\DSND\\lib\\site-packages\\pandas\\core\\generic.py:5170: SettingWithCopyWarning: \n",
      "A value is trying to be set on a copy of a slice from a DataFrame.\n",
      "Try using .loc[row_indexer,col_indexer] = value instead\n",
      "\n",
      "See the caveats in the documentation: https://pandas.pydata.org/pandas-docs/stable/user_guide/indexing.html#returning-a-view-versus-a-copy\n",
      "  self[name] = value\n"
     ]
    }
   ],
   "source": [
    "new_df.Dt_Customer = pd.to_datetime(new_df.Dt_Customer)"
   ]
  },
  {
   "cell_type": "code",
   "execution_count": 27,
   "id": "72155015",
   "metadata": {},
   "outputs": [
    {
     "name": "stderr",
     "output_type": "stream",
     "text": [
      "C:\\Users\\USER\\anaconda3\\envs\\DSND\\lib\\site-packages\\ipykernel_launcher.py:1: SettingWithCopyWarning: \n",
      "A value is trying to be set on a copy of a slice from a DataFrame.\n",
      "Try using .loc[row_indexer,col_indexer] = value instead\n",
      "\n",
      "See the caveats in the documentation: https://pandas.pydata.org/pandas-docs/stable/user_guide/indexing.html#returning-a-view-versus-a-copy\n",
      "  \"\"\"Entry point for launching an IPython kernel.\n",
      "C:\\Users\\USER\\anaconda3\\envs\\DSND\\lib\\site-packages\\ipykernel_launcher.py:2: SettingWithCopyWarning: \n",
      "A value is trying to be set on a copy of a slice from a DataFrame.\n",
      "Try using .loc[row_indexer,col_indexer] = value instead\n",
      "\n",
      "See the caveats in the documentation: https://pandas.pydata.org/pandas-docs/stable/user_guide/indexing.html#returning-a-view-versus-a-copy\n",
      "  \n",
      "C:\\Users\\USER\\anaconda3\\envs\\DSND\\lib\\site-packages\\ipykernel_launcher.py:3: SettingWithCopyWarning: \n",
      "A value is trying to be set on a copy of a slice from a DataFrame.\n",
      "Try using .loc[row_indexer,col_indexer] = value instead\n",
      "\n",
      "See the caveats in the documentation: https://pandas.pydata.org/pandas-docs/stable/user_guide/indexing.html#returning-a-view-versus-a-copy\n",
      "  This is separate from the ipykernel package so we can avoid doing imports until\n",
      "C:\\Users\\USER\\anaconda3\\envs\\DSND\\lib\\site-packages\\ipykernel_launcher.py:4: SettingWithCopyWarning: \n",
      "A value is trying to be set on a copy of a slice from a DataFrame.\n",
      "Try using .loc[row_indexer,col_indexer] = value instead\n",
      "\n",
      "See the caveats in the documentation: https://pandas.pydata.org/pandas-docs/stable/user_guide/indexing.html#returning-a-view-versus-a-copy\n",
      "  after removing the cwd from sys.path.\n",
      "C:\\Users\\USER\\anaconda3\\envs\\DSND\\lib\\site-packages\\ipykernel_launcher.py:5: SettingWithCopyWarning: \n",
      "A value is trying to be set on a copy of a slice from a DataFrame.\n",
      "Try using .loc[row_indexer,col_indexer] = value instead\n",
      "\n",
      "See the caveats in the documentation: https://pandas.pydata.org/pandas-docs/stable/user_guide/indexing.html#returning-a-view-versus-a-copy\n",
      "  \"\"\"\n",
      "C:\\Users\\USER\\anaconda3\\envs\\DSND\\lib\\site-packages\\ipykernel_launcher.py:6: SettingWithCopyWarning: \n",
      "A value is trying to be set on a copy of a slice from a DataFrame.\n",
      "Try using .loc[row_indexer,col_indexer] = value instead\n",
      "\n",
      "See the caveats in the documentation: https://pandas.pydata.org/pandas-docs/stable/user_guide/indexing.html#returning-a-view-versus-a-copy\n",
      "  \n",
      "C:\\Users\\USER\\anaconda3\\envs\\DSND\\lib\\site-packages\\ipykernel_launcher.py:7: SettingWithCopyWarning: \n",
      "A value is trying to be set on a copy of a slice from a DataFrame.\n",
      "Try using .loc[row_indexer,col_indexer] = value instead\n",
      "\n",
      "See the caveats in the documentation: https://pandas.pydata.org/pandas-docs/stable/user_guide/indexing.html#returning-a-view-versus-a-copy\n",
      "  import sys\n",
      "C:\\Users\\USER\\anaconda3\\envs\\DSND\\lib\\site-packages\\ipykernel_launcher.py:8: SettingWithCopyWarning: \n",
      "A value is trying to be set on a copy of a slice from a DataFrame.\n",
      "Try using .loc[row_indexer,col_indexer] = value instead\n",
      "\n",
      "See the caveats in the documentation: https://pandas.pydata.org/pandas-docs/stable/user_guide/indexing.html#returning-a-view-versus-a-copy\n",
      "  \n"
     ]
    }
   ],
   "source": [
    "new_df[\"Join_year\"] = new_df.Dt_Customer.dt.year\n",
    "new_df[\"Join_month\"] = new_df.Dt_Customer.dt.month\n",
    "new_df[\"Join_weekday\"] = new_df.Dt_Customer.dt.weekday\n",
    "new_df[\"Minorhome\"] = new_df.Kidhome + new_df.Teenhome\n",
    "new_df['Total_Mnt'] = new_df.MntWines+ new_df.MntFruits+ new_df.MntMeatProducts+ new_df.MntFishProducts+ new_df.MntSweetProducts+ new_df.MntGoldProds \n",
    "new_df['Total_num_purchase'] = new_df.NumDealsPurchases+ new_df.NumWebPurchases+ new_df.NumCatalogPurchases+ new_df.NumStorePurchases+ new_df.NumWebVisitsMonth \n",
    "new_df['Total_accept'] = new_df.AcceptedCmp1 + new_df.AcceptedCmp2 + new_df.AcceptedCmp2 + new_df.AcceptedCmp2  + new_df.AcceptedCmp3 + new_df.AcceptedCmp4 + new_df.AcceptedCmp5 + new_df.Response\n",
    "new_df['AOV'] = new_df.Total_Mnt/new_df.Total_num_purchase"
   ]
  },
  {
   "cell_type": "code",
   "execution_count": 28,
   "id": "d19b7160",
   "metadata": {},
   "outputs": [
    {
     "data": {
      "text/html": [
       "<div>\n",
       "<style scoped>\n",
       "    .dataframe tbody tr th:only-of-type {\n",
       "        vertical-align: middle;\n",
       "    }\n",
       "\n",
       "    .dataframe tbody tr th {\n",
       "        vertical-align: top;\n",
       "    }\n",
       "\n",
       "    .dataframe thead th {\n",
       "        text-align: right;\n",
       "    }\n",
       "</style>\n",
       "<table border=\"1\" class=\"dataframe\">\n",
       "  <thead>\n",
       "    <tr style=\"text-align: right;\">\n",
       "      <th></th>\n",
       "      <th>ID</th>\n",
       "      <th>Year_Birth</th>\n",
       "      <th>Education</th>\n",
       "      <th>Marital_Status</th>\n",
       "      <th>Income</th>\n",
       "      <th>Kidhome</th>\n",
       "      <th>Teenhome</th>\n",
       "      <th>Dt_Customer</th>\n",
       "      <th>Recency</th>\n",
       "      <th>MntWines</th>\n",
       "      <th>...</th>\n",
       "      <th>Complain</th>\n",
       "      <th>Country</th>\n",
       "      <th>Join_year</th>\n",
       "      <th>Join_month</th>\n",
       "      <th>Join_weekday</th>\n",
       "      <th>Minorhome</th>\n",
       "      <th>Total_Mnt</th>\n",
       "      <th>Total_num_purchase</th>\n",
       "      <th>Total_accept</th>\n",
       "      <th>AOV</th>\n",
       "    </tr>\n",
       "  </thead>\n",
       "  <tbody>\n",
       "    <tr>\n",
       "      <th>0</th>\n",
       "      <td>8996</td>\n",
       "      <td>1957</td>\n",
       "      <td>PhD</td>\n",
       "      <td>Married</td>\n",
       "      <td>51381</td>\n",
       "      <td>2</td>\n",
       "      <td>1</td>\n",
       "      <td>2012-11-19</td>\n",
       "      <td>4</td>\n",
       "      <td>230</td>\n",
       "      <td>...</td>\n",
       "      <td>0</td>\n",
       "      <td>GER</td>\n",
       "      <td>2012</td>\n",
       "      <td>11</td>\n",
       "      <td>0</td>\n",
       "      <td>3</td>\n",
       "      <td>603</td>\n",
       "      <td>38</td>\n",
       "      <td>0</td>\n",
       "      <td>15.868421</td>\n",
       "    </tr>\n",
       "    <tr>\n",
       "      <th>1</th>\n",
       "      <td>1994</td>\n",
       "      <td>1983</td>\n",
       "      <td>Graduation</td>\n",
       "      <td>Married</td>\n",
       "      <td>51381</td>\n",
       "      <td>1</td>\n",
       "      <td>0</td>\n",
       "      <td>2013-11-15</td>\n",
       "      <td>11</td>\n",
       "      <td>5</td>\n",
       "      <td>...</td>\n",
       "      <td>0</td>\n",
       "      <td>US</td>\n",
       "      <td>2013</td>\n",
       "      <td>11</td>\n",
       "      <td>4</td>\n",
       "      <td>1</td>\n",
       "      <td>19</td>\n",
       "      <td>11</td>\n",
       "      <td>0</td>\n",
       "      <td>1.727273</td>\n",
       "    </tr>\n",
       "    <tr>\n",
       "      <th>2</th>\n",
       "      <td>3769</td>\n",
       "      <td>1972</td>\n",
       "      <td>PhD</td>\n",
       "      <td>Together</td>\n",
       "      <td>51381</td>\n",
       "      <td>1</td>\n",
       "      <td>0</td>\n",
       "      <td>2014-03-02</td>\n",
       "      <td>17</td>\n",
       "      <td>25</td>\n",
       "      <td>...</td>\n",
       "      <td>0</td>\n",
       "      <td>AUS</td>\n",
       "      <td>2014</td>\n",
       "      <td>3</td>\n",
       "      <td>6</td>\n",
       "      <td>1</td>\n",
       "      <td>42</td>\n",
       "      <td>12</td>\n",
       "      <td>0</td>\n",
       "      <td>3.500000</td>\n",
       "    </tr>\n",
       "    <tr>\n",
       "      <th>3</th>\n",
       "      <td>5255</td>\n",
       "      <td>1986</td>\n",
       "      <td>Graduation</td>\n",
       "      <td>Single</td>\n",
       "      <td>51381</td>\n",
       "      <td>1</td>\n",
       "      <td>0</td>\n",
       "      <td>2013-02-20</td>\n",
       "      <td>19</td>\n",
       "      <td>5</td>\n",
       "      <td>...</td>\n",
       "      <td>0</td>\n",
       "      <td>AUS</td>\n",
       "      <td>2013</td>\n",
       "      <td>2</td>\n",
       "      <td>2</td>\n",
       "      <td>1</td>\n",
       "      <td>637</td>\n",
       "      <td>28</td>\n",
       "      <td>0</td>\n",
       "      <td>22.750000</td>\n",
       "    </tr>\n",
       "    <tr>\n",
       "      <th>4</th>\n",
       "      <td>8268</td>\n",
       "      <td>1961</td>\n",
       "      <td>PhD</td>\n",
       "      <td>Married</td>\n",
       "      <td>51381</td>\n",
       "      <td>0</td>\n",
       "      <td>1</td>\n",
       "      <td>2013-07-11</td>\n",
       "      <td>23</td>\n",
       "      <td>352</td>\n",
       "      <td>...</td>\n",
       "      <td>0</td>\n",
       "      <td>CA</td>\n",
       "      <td>2013</td>\n",
       "      <td>7</td>\n",
       "      <td>3</td>\n",
       "      <td>1</td>\n",
       "      <td>404</td>\n",
       "      <td>23</td>\n",
       "      <td>0</td>\n",
       "      <td>17.565217</td>\n",
       "    </tr>\n",
       "  </tbody>\n",
       "</table>\n",
       "<p>5 rows × 36 columns</p>\n",
       "</div>"
      ],
      "text/plain": [
       "     ID  Year_Birth   Education Marital_Status  Income  Kidhome  Teenhome  \\\n",
       "0  8996        1957         PhD        Married   51381        2         1   \n",
       "1  1994        1983  Graduation        Married   51381        1         0   \n",
       "2  3769        1972         PhD       Together   51381        1         0   \n",
       "3  5255        1986  Graduation         Single   51381        1         0   \n",
       "4  8268        1961         PhD        Married   51381        0         1   \n",
       "\n",
       "  Dt_Customer  Recency  MntWines  ...  Complain  Country  Join_year  \\\n",
       "0  2012-11-19        4       230  ...         0      GER       2012   \n",
       "1  2013-11-15       11         5  ...         0       US       2013   \n",
       "2  2014-03-02       17        25  ...         0      AUS       2014   \n",
       "3  2013-02-20       19         5  ...         0      AUS       2013   \n",
       "4  2013-07-11       23       352  ...         0       CA       2013   \n",
       "\n",
       "   Join_month  Join_weekday  Minorhome  Total_Mnt  Total_num_purchase  \\\n",
       "0          11             0          3        603                  38   \n",
       "1          11             4          1         19                  11   \n",
       "2           3             6          1         42                  12   \n",
       "3           2             2          1        637                  28   \n",
       "4           7             3          1        404                  23   \n",
       "\n",
       "   Total_accept        AOV  \n",
       "0             0  15.868421  \n",
       "1             0   1.727273  \n",
       "2             0   3.500000  \n",
       "3             0  22.750000  \n",
       "4             0  17.565217  \n",
       "\n",
       "[5 rows x 36 columns]"
      ]
     },
     "execution_count": 28,
     "metadata": {},
     "output_type": "execute_result"
    }
   ],
   "source": [
    "new_df.head()"
   ]
  },
  {
   "cell_type": "markdown",
   "id": "3b4e14dc",
   "metadata": {},
   "source": [
    "### 2.3 `ANOMALY DETECTION AND TREND ANALYSIS`\n",
    "\n",
    "#### Do you notice any patterns or anomalies in the data? Can you plot them?\n",
    "We can use a `heatmap` to see the correlations between each variable. When it gets bluer, it means they are positively correlated, and when it gets redder, they are negatively correlated.\n",
    "\n",
    "#### 2.3.1 `Patterns:` \n",
    "1. High Income People\n",
    "    - tend to spend more and purchase more.\n",
    "    - tend to visit the company's website less frequently than other people. \n",
    "    - tend to have few number of purchases made with a discount\n",
    "\n",
    "2. People having kids at home\n",
    "    - tend to spend less and purchase less.\n",
    "    - tend to has high number of purchases made with a discount\n",
    "\n",
    "\n",
    "3. People who purchased with high average order volumne \n",
    "    - tend to buy more wines and meat products\n",
    "    - tend to make high number of purchases made using a catalog\n",
    "    - tend to not visit the company's website. "
   ]
  },
  {
   "cell_type": "markdown",
   "id": "75a2017a",
   "metadata": {},
   "source": [
    "### CORRELATION ANALYSIS\n"
   ]
  },
  {
   "cell_type": "code",
   "execution_count": 29,
   "id": "63817308",
   "metadata": {},
   "outputs": [
    {
     "data": {
      "image/png": "[encoded data removed]",
      "text/plain": [
       "<Figure size 1440x720 with 2 Axes>"
      ]
     },
     "metadata": {
      "needs_background": "light"
     },
     "output_type": "display_data"
    }
   ],
   "source": [
    "df_to_plot = new_df.drop(columns=['ID'], axis = 1)\n",
    "plt.figure(figsize=(20,10))\n",
    "s = sns.heatmap(data = df_to_plot.corr(), cmap = 'coolwarm', vmin = -1, vmax = 1, center=0)\n",
    "plt.title(\"Correlation Heatmap\")\n",
    "plt.savefig('Images/heatmap.png', bbox_inches='tight')\n",
    "plt.show()"
   ]
  },
  {
   "cell_type": "markdown",
   "id": "1e85b788",
   "metadata": {},
   "source": [
    "### 2.3.2 `Anomalies:`\n",
    "\n",
    "Intuitively, I'd think the more complaints a customer has, the less he/she may spend on our store, but the number of complain in the last two years has almost no correlation with the total amount spent in the last two years"
   ]
  },
  {
   "cell_type": "code",
   "execution_count": 30,
   "id": "6c48d6d9",
   "metadata": {},
   "outputs": [
    {
     "data": {
      "text/html": [
       "<div>\n",
       "<style scoped>\n",
       "    .dataframe tbody tr th:only-of-type {\n",
       "        vertical-align: middle;\n",
       "    }\n",
       "\n",
       "    .dataframe tbody tr th {\n",
       "        vertical-align: top;\n",
       "    }\n",
       "\n",
       "    .dataframe thead th {\n",
       "        text-align: right;\n",
       "    }\n",
       "</style>\n",
       "<table border=\"1\" class=\"dataframe\">\n",
       "  <thead>\n",
       "    <tr style=\"text-align: right;\">\n",
       "      <th></th>\n",
       "      <th>ID</th>\n",
       "      <th>Year_Birth</th>\n",
       "      <th>Education</th>\n",
       "      <th>Marital_Status</th>\n",
       "      <th>Income</th>\n",
       "      <th>Kidhome</th>\n",
       "      <th>Teenhome</th>\n",
       "      <th>Dt_Customer</th>\n",
       "      <th>Recency</th>\n",
       "      <th>MntWines</th>\n",
       "      <th>...</th>\n",
       "      <th>Complain</th>\n",
       "      <th>Country</th>\n",
       "      <th>Join_year</th>\n",
       "      <th>Join_month</th>\n",
       "      <th>Join_weekday</th>\n",
       "      <th>Minorhome</th>\n",
       "      <th>Total_Mnt</th>\n",
       "      <th>Total_num_purchase</th>\n",
       "      <th>Total_accept</th>\n",
       "      <th>AOV</th>\n",
       "    </tr>\n",
       "  </thead>\n",
       "  <tbody>\n",
       "    <tr>\n",
       "      <th>229</th>\n",
       "      <td>10995</td>\n",
       "      <td>1988</td>\n",
       "      <td>2n Cycle</td>\n",
       "      <td>Married</td>\n",
       "      <td>15716</td>\n",
       "      <td>1</td>\n",
       "      <td>0</td>\n",
       "      <td>2012-11-12</td>\n",
       "      <td>8</td>\n",
       "      <td>16</td>\n",
       "      <td>...</td>\n",
       "      <td>1</td>\n",
       "      <td>SA</td>\n",
       "      <td>2012</td>\n",
       "      <td>11</td>\n",
       "      <td>0</td>\n",
       "      <td>1</td>\n",
       "      <td>92</td>\n",
       "      <td>18</td>\n",
       "      <td>0</td>\n",
       "      <td>5.111111</td>\n",
       "    </tr>\n",
       "    <tr>\n",
       "      <th>319</th>\n",
       "      <td>10401</td>\n",
       "      <td>1976</td>\n",
       "      <td>2n Cycle</td>\n",
       "      <td>Together</td>\n",
       "      <td>26326</td>\n",
       "      <td>0</td>\n",
       "      <td>0</td>\n",
       "      <td>2013-09-04</td>\n",
       "      <td>12</td>\n",
       "      <td>1</td>\n",
       "      <td>...</td>\n",
       "      <td>1</td>\n",
       "      <td>GER</td>\n",
       "      <td>2013</td>\n",
       "      <td>9</td>\n",
       "      <td>2</td>\n",
       "      <td>0</td>\n",
       "      <td>18</td>\n",
       "      <td>7</td>\n",
       "      <td>0</td>\n",
       "      <td>2.571429</td>\n",
       "    </tr>\n",
       "    <tr>\n",
       "      <th>377</th>\n",
       "      <td>5726</td>\n",
       "      <td>1983</td>\n",
       "      <td>Master</td>\n",
       "      <td>Single</td>\n",
       "      <td>31788</td>\n",
       "      <td>1</td>\n",
       "      <td>0</td>\n",
       "      <td>2014-03-20</td>\n",
       "      <td>15</td>\n",
       "      <td>16</td>\n",
       "      <td>...</td>\n",
       "      <td>1</td>\n",
       "      <td>SA</td>\n",
       "      <td>2014</td>\n",
       "      <td>3</td>\n",
       "      <td>3</td>\n",
       "      <td>1</td>\n",
       "      <td>60</td>\n",
       "      <td>15</td>\n",
       "      <td>0</td>\n",
       "      <td>4.000000</td>\n",
       "    </tr>\n",
       "    <tr>\n",
       "      <th>574</th>\n",
       "      <td>9483</td>\n",
       "      <td>1959</td>\n",
       "      <td>Graduation</td>\n",
       "      <td>Together</td>\n",
       "      <td>57957</td>\n",
       "      <td>0</td>\n",
       "      <td>1</td>\n",
       "      <td>2013-08-19</td>\n",
       "      <td>24</td>\n",
       "      <td>290</td>\n",
       "      <td>...</td>\n",
       "      <td>1</td>\n",
       "      <td>CA</td>\n",
       "      <td>2013</td>\n",
       "      <td>8</td>\n",
       "      <td>0</td>\n",
       "      <td>1</td>\n",
       "      <td>637</td>\n",
       "      <td>28</td>\n",
       "      <td>0</td>\n",
       "      <td>22.750000</td>\n",
       "    </tr>\n",
       "    <tr>\n",
       "      <th>680</th>\n",
       "      <td>10971</td>\n",
       "      <td>1977</td>\n",
       "      <td>Graduation</td>\n",
       "      <td>Single</td>\n",
       "      <td>37774</td>\n",
       "      <td>2</td>\n",
       "      <td>0</td>\n",
       "      <td>2012-09-03</td>\n",
       "      <td>28</td>\n",
       "      <td>173</td>\n",
       "      <td>...</td>\n",
       "      <td>1</td>\n",
       "      <td>SP</td>\n",
       "      <td>2012</td>\n",
       "      <td>9</td>\n",
       "      <td>0</td>\n",
       "      <td>2</td>\n",
       "      <td>473</td>\n",
       "      <td>25</td>\n",
       "      <td>2</td>\n",
       "      <td>18.920000</td>\n",
       "    </tr>\n",
       "    <tr>\n",
       "      <th>746</th>\n",
       "      <td>255</td>\n",
       "      <td>1951</td>\n",
       "      <td>Graduation</td>\n",
       "      <td>Divorced</td>\n",
       "      <td>22263</td>\n",
       "      <td>1</td>\n",
       "      <td>1</td>\n",
       "      <td>2014-03-30</td>\n",
       "      <td>31</td>\n",
       "      <td>17</td>\n",
       "      <td>...</td>\n",
       "      <td>1</td>\n",
       "      <td>SP</td>\n",
       "      <td>2014</td>\n",
       "      <td>3</td>\n",
       "      <td>6</td>\n",
       "      <td>2</td>\n",
       "      <td>21</td>\n",
       "      <td>12</td>\n",
       "      <td>0</td>\n",
       "      <td>1.750000</td>\n",
       "    </tr>\n",
       "    <tr>\n",
       "      <th>793</th>\n",
       "      <td>359</td>\n",
       "      <td>1950</td>\n",
       "      <td>Graduation</td>\n",
       "      <td>Together</td>\n",
       "      <td>48070</td>\n",
       "      <td>0</td>\n",
       "      <td>1</td>\n",
       "      <td>2013-01-13</td>\n",
       "      <td>33</td>\n",
       "      <td>373</td>\n",
       "      <td>...</td>\n",
       "      <td>1</td>\n",
       "      <td>SP</td>\n",
       "      <td>2013</td>\n",
       "      <td>1</td>\n",
       "      <td>6</td>\n",
       "      <td>1</td>\n",
       "      <td>504</td>\n",
       "      <td>26</td>\n",
       "      <td>0</td>\n",
       "      <td>19.384615</td>\n",
       "    </tr>\n",
       "    <tr>\n",
       "      <th>960</th>\n",
       "      <td>3710</td>\n",
       "      <td>1984</td>\n",
       "      <td>PhD</td>\n",
       "      <td>Single</td>\n",
       "      <td>39684</td>\n",
       "      <td>1</td>\n",
       "      <td>0</td>\n",
       "      <td>2012-10-12</td>\n",
       "      <td>41</td>\n",
       "      <td>19</td>\n",
       "      <td>...</td>\n",
       "      <td>1</td>\n",
       "      <td>SP</td>\n",
       "      <td>2012</td>\n",
       "      <td>10</td>\n",
       "      <td>4</td>\n",
       "      <td>1</td>\n",
       "      <td>81</td>\n",
       "      <td>14</td>\n",
       "      <td>1</td>\n",
       "      <td>5.785714</td>\n",
       "    </tr>\n",
       "    <tr>\n",
       "      <th>1016</th>\n",
       "      <td>6201</td>\n",
       "      <td>1978</td>\n",
       "      <td>Graduation</td>\n",
       "      <td>Single</td>\n",
       "      <td>38643</td>\n",
       "      <td>1</td>\n",
       "      <td>1</td>\n",
       "      <td>2013-11-29</td>\n",
       "      <td>45</td>\n",
       "      <td>22</td>\n",
       "      <td>...</td>\n",
       "      <td>1</td>\n",
       "      <td>SP</td>\n",
       "      <td>2013</td>\n",
       "      <td>11</td>\n",
       "      <td>4</td>\n",
       "      <td>2</td>\n",
       "      <td>49</td>\n",
       "      <td>14</td>\n",
       "      <td>0</td>\n",
       "      <td>3.500000</td>\n",
       "    </tr>\n",
       "    <tr>\n",
       "      <th>1103</th>\n",
       "      <td>7966</td>\n",
       "      <td>1959</td>\n",
       "      <td>Graduation</td>\n",
       "      <td>Single</td>\n",
       "      <td>80982</td>\n",
       "      <td>1</td>\n",
       "      <td>1</td>\n",
       "      <td>2013-01-08</td>\n",
       "      <td>48</td>\n",
       "      <td>505</td>\n",
       "      <td>...</td>\n",
       "      <td>1</td>\n",
       "      <td>SP</td>\n",
       "      <td>2013</td>\n",
       "      <td>1</td>\n",
       "      <td>1</td>\n",
       "      <td>2</td>\n",
       "      <td>1191</td>\n",
       "      <td>35</td>\n",
       "      <td>0</td>\n",
       "      <td>34.028571</td>\n",
       "    </tr>\n",
       "    <tr>\n",
       "      <th>1118</th>\n",
       "      <td>3120</td>\n",
       "      <td>1981</td>\n",
       "      <td>Graduation</td>\n",
       "      <td>Together</td>\n",
       "      <td>38547</td>\n",
       "      <td>1</td>\n",
       "      <td>0</td>\n",
       "      <td>2013-08-28</td>\n",
       "      <td>49</td>\n",
       "      <td>6</td>\n",
       "      <td>...</td>\n",
       "      <td>1</td>\n",
       "      <td>CA</td>\n",
       "      <td>2013</td>\n",
       "      <td>8</td>\n",
       "      <td>2</td>\n",
       "      <td>1</td>\n",
       "      <td>22</td>\n",
       "      <td>12</td>\n",
       "      <td>0</td>\n",
       "      <td>1.833333</td>\n",
       "    </tr>\n",
       "    <tr>\n",
       "      <th>1311</th>\n",
       "      <td>4427</td>\n",
       "      <td>1995</td>\n",
       "      <td>2n Cycle</td>\n",
       "      <td>Single</td>\n",
       "      <td>83257</td>\n",
       "      <td>0</td>\n",
       "      <td>0</td>\n",
       "      <td>2012-09-18</td>\n",
       "      <td>56</td>\n",
       "      <td>536</td>\n",
       "      <td>...</td>\n",
       "      <td>1</td>\n",
       "      <td>SP</td>\n",
       "      <td>2012</td>\n",
       "      <td>9</td>\n",
       "      <td>1</td>\n",
       "      <td>0</td>\n",
       "      <td>1365</td>\n",
       "      <td>34</td>\n",
       "      <td>3</td>\n",
       "      <td>40.147059</td>\n",
       "    </tr>\n",
       "    <tr>\n",
       "      <th>1348</th>\n",
       "      <td>7192</td>\n",
       "      <td>1955</td>\n",
       "      <td>Graduation</td>\n",
       "      <td>Together</td>\n",
       "      <td>65748</td>\n",
       "      <td>0</td>\n",
       "      <td>1</td>\n",
       "      <td>2013-04-15</td>\n",
       "      <td>58</td>\n",
       "      <td>172</td>\n",
       "      <td>...</td>\n",
       "      <td>1</td>\n",
       "      <td>SP</td>\n",
       "      <td>2013</td>\n",
       "      <td>4</td>\n",
       "      <td>0</td>\n",
       "      <td>1</td>\n",
       "      <td>545</td>\n",
       "      <td>19</td>\n",
       "      <td>0</td>\n",
       "      <td>28.684211</td>\n",
       "    </tr>\n",
       "    <tr>\n",
       "      <th>1487</th>\n",
       "      <td>6142</td>\n",
       "      <td>1943</td>\n",
       "      <td>Master</td>\n",
       "      <td>Married</td>\n",
       "      <td>65073</td>\n",
       "      <td>0</td>\n",
       "      <td>0</td>\n",
       "      <td>2013-08-20</td>\n",
       "      <td>65</td>\n",
       "      <td>629</td>\n",
       "      <td>...</td>\n",
       "      <td>1</td>\n",
       "      <td>SP</td>\n",
       "      <td>2013</td>\n",
       "      <td>8</td>\n",
       "      <td>1</td>\n",
       "      <td>0</td>\n",
       "      <td>900</td>\n",
       "      <td>16</td>\n",
       "      <td>0</td>\n",
       "      <td>56.250000</td>\n",
       "    </tr>\n",
       "    <tr>\n",
       "      <th>1518</th>\n",
       "      <td>9500</td>\n",
       "      <td>1959</td>\n",
       "      <td>Graduation</td>\n",
       "      <td>Married</td>\n",
       "      <td>58113</td>\n",
       "      <td>0</td>\n",
       "      <td>1</td>\n",
       "      <td>2013-01-25</td>\n",
       "      <td>66</td>\n",
       "      <td>221</td>\n",
       "      <td>...</td>\n",
       "      <td>1</td>\n",
       "      <td>SP</td>\n",
       "      <td>2013</td>\n",
       "      <td>1</td>\n",
       "      <td>4</td>\n",
       "      <td>1</td>\n",
       "      <td>758</td>\n",
       "      <td>29</td>\n",
       "      <td>0</td>\n",
       "      <td>26.137931</td>\n",
       "    </tr>\n",
       "    <tr>\n",
       "      <th>1753</th>\n",
       "      <td>10637</td>\n",
       "      <td>1964</td>\n",
       "      <td>Graduation</td>\n",
       "      <td>Married</td>\n",
       "      <td>40800</td>\n",
       "      <td>1</td>\n",
       "      <td>2</td>\n",
       "      <td>2013-01-01</td>\n",
       "      <td>77</td>\n",
       "      <td>24</td>\n",
       "      <td>...</td>\n",
       "      <td>1</td>\n",
       "      <td>SP</td>\n",
       "      <td>2013</td>\n",
       "      <td>1</td>\n",
       "      <td>1</td>\n",
       "      <td>3</td>\n",
       "      <td>99</td>\n",
       "      <td>15</td>\n",
       "      <td>0</td>\n",
       "      <td>6.600000</td>\n",
       "    </tr>\n",
       "    <tr>\n",
       "      <th>1872</th>\n",
       "      <td>6742</td>\n",
       "      <td>1979</td>\n",
       "      <td>Graduation</td>\n",
       "      <td>Married</td>\n",
       "      <td>17688</td>\n",
       "      <td>1</td>\n",
       "      <td>0</td>\n",
       "      <td>2013-01-13</td>\n",
       "      <td>82</td>\n",
       "      <td>2</td>\n",
       "      <td>...</td>\n",
       "      <td>1</td>\n",
       "      <td>SP</td>\n",
       "      <td>2013</td>\n",
       "      <td>1</td>\n",
       "      <td>6</td>\n",
       "      <td>1</td>\n",
       "      <td>11</td>\n",
       "      <td>12</td>\n",
       "      <td>0</td>\n",
       "      <td>0.916667</td>\n",
       "    </tr>\n",
       "    <tr>\n",
       "      <th>2084</th>\n",
       "      <td>6730</td>\n",
       "      <td>1954</td>\n",
       "      <td>Graduation</td>\n",
       "      <td>Married</td>\n",
       "      <td>38998</td>\n",
       "      <td>1</td>\n",
       "      <td>1</td>\n",
       "      <td>2012-11-03</td>\n",
       "      <td>92</td>\n",
       "      <td>34</td>\n",
       "      <td>...</td>\n",
       "      <td>1</td>\n",
       "      <td>SP</td>\n",
       "      <td>2012</td>\n",
       "      <td>11</td>\n",
       "      <td>5</td>\n",
       "      <td>2</td>\n",
       "      <td>54</td>\n",
       "      <td>16</td>\n",
       "      <td>0</td>\n",
       "      <td>3.375000</td>\n",
       "    </tr>\n",
       "    <tr>\n",
       "      <th>2085</th>\n",
       "      <td>9916</td>\n",
       "      <td>1954</td>\n",
       "      <td>Graduation</td>\n",
       "      <td>Married</td>\n",
       "      <td>38998</td>\n",
       "      <td>1</td>\n",
       "      <td>1</td>\n",
       "      <td>2012-11-03</td>\n",
       "      <td>92</td>\n",
       "      <td>34</td>\n",
       "      <td>...</td>\n",
       "      <td>1</td>\n",
       "      <td>SA</td>\n",
       "      <td>2012</td>\n",
       "      <td>11</td>\n",
       "      <td>5</td>\n",
       "      <td>2</td>\n",
       "      <td>54</td>\n",
       "      <td>16</td>\n",
       "      <td>0</td>\n",
       "      <td>3.375000</td>\n",
       "    </tr>\n",
       "    <tr>\n",
       "      <th>2094</th>\n",
       "      <td>2875</td>\n",
       "      <td>1978</td>\n",
       "      <td>Graduation</td>\n",
       "      <td>Married</td>\n",
       "      <td>67023</td>\n",
       "      <td>0</td>\n",
       "      <td>0</td>\n",
       "      <td>2014-03-04</td>\n",
       "      <td>93</td>\n",
       "      <td>444</td>\n",
       "      <td>...</td>\n",
       "      <td>1</td>\n",
       "      <td>SP</td>\n",
       "      <td>2014</td>\n",
       "      <td>3</td>\n",
       "      <td>1</td>\n",
       "      <td>0</td>\n",
       "      <td>906</td>\n",
       "      <td>26</td>\n",
       "      <td>0</td>\n",
       "      <td>34.846154</td>\n",
       "    </tr>\n",
       "  </tbody>\n",
       "</table>\n",
       "<p>20 rows × 36 columns</p>\n",
       "</div>"
      ],
      "text/plain": [
       "         ID  Year_Birth   Education Marital_Status  Income  Kidhome  Teenhome  \\\n",
       "229   10995        1988    2n Cycle        Married   15716        1         0   \n",
       "319   10401        1976    2n Cycle       Together   26326        0         0   \n",
       "377    5726        1983      Master         Single   31788        1         0   \n",
       "574    9483        1959  Graduation       Together   57957        0         1   \n",
       "680   10971        1977  Graduation         Single   37774        2         0   \n",
       "746     255        1951  Graduation       Divorced   22263        1         1   \n",
       "793     359        1950  Graduation       Together   48070        0         1   \n",
       "960    3710        1984         PhD         Single   39684        1         0   \n",
       "1016   6201        1978  Graduation         Single   38643        1         1   \n",
       "1103   7966        1959  Graduation         Single   80982        1         1   \n",
       "1118   3120        1981  Graduation       Together   38547        1         0   \n",
       "1311   4427        1995    2n Cycle         Single   83257        0         0   \n",
       "1348   7192        1955  Graduation       Together   65748        0         1   \n",
       "1487   6142        1943      Master        Married   65073        0         0   \n",
       "1518   9500        1959  Graduation        Married   58113        0         1   \n",
       "1753  10637        1964  Graduation        Married   40800        1         2   \n",
       "1872   6742        1979  Graduation        Married   17688        1         0   \n",
       "2084   6730        1954  Graduation        Married   38998        1         1   \n",
       "2085   9916        1954  Graduation        Married   38998        1         1   \n",
       "2094   2875        1978  Graduation        Married   67023        0         0   \n",
       "\n",
       "     Dt_Customer  Recency  MntWines  ...  Complain  Country  Join_year  \\\n",
       "229   2012-11-12        8        16  ...         1       SA       2012   \n",
       "319   2013-09-04       12         1  ...         1      GER       2013   \n",
       "377   2014-03-20       15        16  ...         1       SA       2014   \n",
       "574   2013-08-19       24       290  ...         1       CA       2013   \n",
       "680   2012-09-03       28       173  ...         1       SP       2012   \n",
       "746   2014-03-30       31        17  ...         1       SP       2014   \n",
       "793   2013-01-13       33       373  ...         1       SP       2013   \n",
       "960   2012-10-12       41        19  ...         1       SP       2012   \n",
       "1016  2013-11-29       45        22  ...         1       SP       2013   \n",
       "1103  2013-01-08       48       505  ...         1       SP       2013   \n",
       "1118  2013-08-28       49         6  ...         1       CA       2013   \n",
       "1311  2012-09-18       56       536  ...         1       SP       2012   \n",
       "1348  2013-04-15       58       172  ...         1       SP       2013   \n",
       "1487  2013-08-20       65       629  ...         1       SP       2013   \n",
       "1518  2013-01-25       66       221  ...         1       SP       2013   \n",
       "1753  2013-01-01       77        24  ...         1       SP       2013   \n",
       "1872  2013-01-13       82         2  ...         1       SP       2013   \n",
       "2084  2012-11-03       92        34  ...         1       SP       2012   \n",
       "2085  2012-11-03       92        34  ...         1       SA       2012   \n",
       "2094  2014-03-04       93       444  ...         1       SP       2014   \n",
       "\n",
       "      Join_month  Join_weekday  Minorhome  Total_Mnt  Total_num_purchase  \\\n",
       "229           11             0          1         92                  18   \n",
       "319            9             2          0         18                   7   \n",
       "377            3             3          1         60                  15   \n",
       "574            8             0          1        637                  28   \n",
       "680            9             0          2        473                  25   \n",
       "746            3             6          2         21                  12   \n",
       "793            1             6          1        504                  26   \n",
       "960           10             4          1         81                  14   \n",
       "1016          11             4          2         49                  14   \n",
       "1103           1             1          2       1191                  35   \n",
       "1118           8             2          1         22                  12   \n",
       "1311           9             1          0       1365                  34   \n",
       "1348           4             0          1        545                  19   \n",
       "1487           8             1          0        900                  16   \n",
       "1518           1             4          1        758                  29   \n",
       "1753           1             1          3         99                  15   \n",
       "1872           1             6          1         11                  12   \n",
       "2084          11             5          2         54                  16   \n",
       "2085          11             5          2         54                  16   \n",
       "2094           3             1          0        906                  26   \n",
       "\n",
       "      Total_accept        AOV  \n",
       "229              0   5.111111  \n",
       "319              0   2.571429  \n",
       "377              0   4.000000  \n",
       "574              0  22.750000  \n",
       "680              2  18.920000  \n",
       "746              0   1.750000  \n",
       "793              0  19.384615  \n",
       "960              1   5.785714  \n",
       "1016             0   3.500000  \n",
       "1103             0  34.028571  \n",
       "1118             0   1.833333  \n",
       "1311             3  40.147059  \n",
       "1348             0  28.684211  \n",
       "1487             0  56.250000  \n",
       "1518             0  26.137931  \n",
       "1753             0   6.600000  \n",
       "1872             0   0.916667  \n",
       "2084             0   3.375000  \n",
       "2085             0   3.375000  \n",
       "2094             0  34.846154  \n",
       "\n",
       "[20 rows x 36 columns]"
      ]
     },
     "execution_count": 30,
     "metadata": {},
     "output_type": "execute_result"
    }
   ],
   "source": [
    "new_df[new_df['Complain'] == 1]"
   ]
  },
  {
   "cell_type": "code",
   "execution_count": 31,
   "id": "a0eb4189",
   "metadata": {},
   "outputs": [
    {
     "data": {
      "image/png": "[encoded data removed]",
      "text/plain": [
       "<Figure size 432x288 with 1 Axes>"
      ]
     },
     "metadata": {
      "needs_background": "light"
     },
     "output_type": "display_data"
    }
   ],
   "source": [
    "#visualize the anomalies between high \"Complain\" and \"Total_amount\"\n",
    "plt.scatter(data = new_df, x = 'Complain', y = 'Total_Mnt')\n",
    "plt.title(\"Complain vs Total_Mnt\");"
   ]
  },
  {
   "cell_type": "markdown",
   "id": "2979f9f6",
   "metadata": {},
   "source": [
    "`After further investigating the data, I found that it is because we only have 20 customers who complained in the last two years, but we have 2200 customers in total. The customer service in the company has done a wonderful job in the last two years.`"
   ]
  },
  {
   "cell_type": "markdown",
   "id": "0b229b8b",
   "metadata": {},
   "source": [
    "## 3. Statistical Analysis\n",
    "\n",
    "To perform statistical analysis, we will be calculating pearon's correlation factor and p-value for any two predictor varaibles."
   ]
  },
  {
   "cell_type": "code",
   "execution_count": 32,
   "id": "bfa14f5a",
   "metadata": {},
   "outputs": [
    {
     "name": "stdout",
     "output_type": "stream",
     "text": [
      "Pearson correlation (r):  -0.03373965091266398\n",
      "Pearson p-value:  0.11063526070950919\n"
     ]
    }
   ],
   "source": [
    "from scipy.stats import pearsonr\n",
    "\n",
    "r, p_value  =  pearsonr(x=new_df['Complain'], y=new_df['Total_Mnt'])\n",
    "\n",
    "# print results\n",
    "print('Pearson correlation (r): ', r)\n",
    "print('Pearson p-value: ', p_value)"
   ]
  },
  {
   "cell_type": "code",
   "execution_count": 33,
   "id": "62e15a7c",
   "metadata": {},
   "outputs": [
    {
     "data": {
      "text/plain": [
       "20"
      ]
     },
     "execution_count": 33,
     "metadata": {},
     "output_type": "execute_result"
    }
   ],
   "source": [
    "new_df[new_df.Complain > 0].ID.nunique()"
   ]
  },
  {
   "cell_type": "code",
   "execution_count": 34,
   "id": "8c7c34ac",
   "metadata": {},
   "outputs": [
    {
     "data": {
      "image/png": "[encoded data removed]",
      "text/plain": [
       "<Figure size 432x288 with 1 Axes>"
      ]
     },
     "metadata": {
      "needs_background": "light"
     },
     "output_type": "display_data"
    }
   ],
   "source": [
    "# Visualize NumWebPurchases vs NumWebVisitsMonth\n",
    "\n",
    "new_df.plot(x='NumWebPurchases', y='NumWebVisitsMonth', kind='scatter')\n",
    "plt.title(\"Number of Web Purchases vs Number of Web Visits per Month\");"
   ]
  },
  {
   "cell_type": "markdown",
   "id": "72237077",
   "metadata": {},
   "source": [
    "### 3.1 Feature Importance Using `Random Forest Regressor`"
   ]
  },
  {
   "cell_type": "code",
   "execution_count": 35,
   "id": "656f2c69",
   "metadata": {},
   "outputs": [
    {
     "data": {
      "image/png": "[encoded data removed]",
      "text/plain": [
       "<Figure size 432x288 with 1 Axes>"
      ]
     },
     "metadata": {
      "needs_background": "light"
     },
     "output_type": "display_data"
    }
   ],
   "source": [
    "new_df.NumStorePurchases.hist()\n",
    "plt.title(\"Distribution of the number of store purchases\");"
   ]
  },
  {
   "cell_type": "code",
   "execution_count": 36,
   "id": "bac811d3",
   "metadata": {},
   "outputs": [
    {
     "name": "stdout",
     "output_type": "stream",
     "text": [
      "Model score: 0.8589106626740853\n",
      "Mean Absolute Error: 0.7738690476190475\n",
      "Mean Squared Error: 1.4274419642857143\n",
      "Root Mean Squared Error: 1.1947560270974633\n"
     ]
    }
   ],
   "source": [
    "# drop ID as everyone has unique ID\n",
    "rd_df = new_df.drop(columns=['ID', 'Dt_Customer'])\n",
    "rd_df.replace([np.inf, -np.inf], 0, inplace=True)\n",
    "\n",
    "# One-hot encoding\n",
    "rd_df = pd.get_dummies(rd_df)\n",
    "\n",
    "# Import train_test_split function\n",
    "from sklearn.model_selection import train_test_split\n",
    "\n",
    "X=rd_df.drop(columns=['NumStorePurchases'])  # Features\n",
    "y=rd_df['NumStorePurchases']  # Labels\n",
    "\n",
    "# Split dataset into training set and test set\n",
    "X_train, X_test, y_train, y_test = train_test_split(X, y, test_size=0.3) \n",
    "# 70% training and 30% test\n",
    "\n",
    "#Import Random Forest Model\n",
    "from sklearn.ensemble import RandomForestRegressor\n",
    "\n",
    "#Create a Random Forest Classifier with 100 trees\n",
    "rg = RandomForestRegressor(n_estimators=200, n_jobs=-1)\n",
    "\n",
    "# Train the model using the training sets y_pred=clf.predict(X_test)\n",
    "rg.fit(X_train, y_train)\n",
    "\n",
    "y_pred=rg.predict(X_test)\n",
    "\n",
    "from sklearn import metrics\n",
    "\n",
    "print(\"Model score:\", rg.score(X_test, y_test))\n",
    "print('Mean Absolute Error:', metrics.mean_absolute_error(y_test, y_pred))\n",
    "print('Mean Squared Error:', metrics.mean_squared_error(y_test, y_pred))\n",
    "print('Root Mean Squared Error:', np.sqrt(metrics.mean_squared_error(y_test, y_pred)))"
   ]
  },
  {
   "cell_type": "markdown",
   "id": "fd26d9bc",
   "metadata": {},
   "source": [
    "`Finding: The range of NumStorePurchases is 13, and the Root Mean Squared Error is only 1.1(less than 10% of the range), which means it is a relaible model.`"
   ]
  },
  {
   "cell_type": "markdown",
   "id": "78ee73e1",
   "metadata": {},
   "source": [
    "### B) Find feature importance scores based on `mean decrease in Impurity`"
   ]
  },
  {
   "cell_type": "code",
   "execution_count": 37,
   "id": "7e510db0",
   "metadata": {},
   "outputs": [
    {
     "name": "stdout",
     "output_type": "stream",
     "text": [
      "Elapsed time to compute the importance:  0.118 seconds\n"
     ]
    }
   ],
   "source": [
    "start_time = time.time()\n",
    "feature_importance = pd.Series(rg.feature_importances_, index = list(X.columns)).sort_values(ascending = False)\n",
    "elapsed_time = time.time() - start_time\n",
    "print(f\"Elapsed time to compute the importance: {elapsed_time: .3f} seconds\")"
   ]
  },
  {
   "cell_type": "code",
   "execution_count": 38,
   "id": "a047baeb",
   "metadata": {},
   "outputs": [
    {
     "data": {
      "image/png": "[encoded data removed]",
      "text/plain": [
       "<Figure size 504x504 with 1 Axes>"
      ]
     },
     "metadata": {
      "needs_background": "light"
     },
     "output_type": "display_data"
    }
   ],
   "source": [
    "# get the top 15 feature\n",
    "feature_importance = feature_importance[:10]\n",
    "plt.figure(figsize = (7, 7))\n",
    "sns.barplot(x=feature_importance, y=feature_importance.index)\n",
    "# Add labels to your graph\n",
    "plt.xlabel('Feature Importance Score')\n",
    "plt.ylabel('Features')\n",
    "plt.title(\"Visualizing Top 10 Important Features\")\n",
    "plt.savefig('Images/important_feautres.png', bbox_inches='tight')\n",
    "plt.show()"
   ]
  },
  {
   "cell_type": "markdown",
   "id": "66c47d69",
   "metadata": {},
   "source": [
    "#### A brief explanation of the Shapley Values and Shapley Kernels is given at https://towardsdatascience.com/shap-shapley-additive-explanations-5a2a271ed9c3"
   ]
  },
  {
   "cell_type": "code",
   "execution_count": 39,
   "id": "07667377",
   "metadata": {},
   "outputs": [],
   "source": [
    "import shap"
   ]
  },
  {
   "cell_type": "code",
   "execution_count": 40,
   "id": "4acc7d8d",
   "metadata": {},
   "outputs": [
    {
     "name": "stderr",
     "output_type": "stream",
     "text": [
      " 99%|===================| 664/672 [00:30<00:00]        "
     ]
    }
   ],
   "source": [
    "ex = shap.Explainer(rg, X_train)\n",
    "shap_values = ex.shap_values(X_test)"
   ]
  },
  {
   "cell_type": "code",
   "execution_count": 41,
   "id": "f297aafa",
   "metadata": {},
   "outputs": [
    {
     "data": {
      "image/png": "[encoded data removed]",
      "text/plain": [
       "<Figure size 576x684 with 2 Axes>"
      ]
     },
     "metadata": {
      "needs_background": "light"
     },
     "output_type": "display_data"
    },
    {
     "data": {
      "text/plain": [
       "<Figure size 432x288 with 0 Axes>"
      ]
     },
     "metadata": {},
     "output_type": "display_data"
    }
   ],
   "source": [
    "plt.title('SHAP summary for NumStorePurchases', size=16)\n",
    "fig = shap.summary_plot(shap_values, X_test)\n",
    "plt.savefig('Images/SHAP.png', bbox_inches='tight')\n",
    "plt.show()"
   ]
  },
  {
   "cell_type": "code",
   "execution_count": 42,
   "id": "42fb1125",
   "metadata": {},
   "outputs": [
    {
     "name": "stderr",
     "output_type": "stream",
     "text": [
      "\n",
      "A value is trying to be set on a copy of a slice from a DataFrame.\n",
      "Try using .loc[row_indexer,col_indexer] = value instead\n",
      "\n",
      "See the caveats in the documentation: https://pandas.pydata.org/pandas-docs/stable/user_guide/indexing.html#returning-a-view-versus-a-copy\n"
     ]
    },
    {
     "data": {
      "text/html": [
       "<div>\n",
       "<style scoped>\n",
       "    .dataframe tbody tr th:only-of-type {\n",
       "        vertical-align: middle;\n",
       "    }\n",
       "\n",
       "    .dataframe tbody tr th {\n",
       "        vertical-align: top;\n",
       "    }\n",
       "\n",
       "    .dataframe thead th {\n",
       "        text-align: right;\n",
       "    }\n",
       "</style>\n",
       "<table border=\"1\" class=\"dataframe\">\n",
       "  <thead>\n",
       "    <tr style=\"text-align: right;\">\n",
       "      <th></th>\n",
       "      <th>ID</th>\n",
       "      <th>Year_Birth</th>\n",
       "      <th>Education</th>\n",
       "      <th>Marital_Status</th>\n",
       "      <th>Income</th>\n",
       "      <th>Kidhome</th>\n",
       "      <th>Teenhome</th>\n",
       "      <th>Dt_Customer</th>\n",
       "      <th>Recency</th>\n",
       "      <th>MntWines</th>\n",
       "      <th>...</th>\n",
       "      <th>Country</th>\n",
       "      <th>Join_year</th>\n",
       "      <th>Join_month</th>\n",
       "      <th>Join_weekday</th>\n",
       "      <th>Minorhome</th>\n",
       "      <th>Total_Mnt</th>\n",
       "      <th>Total_num_purchase</th>\n",
       "      <th>Total_accept</th>\n",
       "      <th>AOV</th>\n",
       "      <th>Type of shopper</th>\n",
       "    </tr>\n",
       "  </thead>\n",
       "  <tbody>\n",
       "    <tr>\n",
       "      <th>3</th>\n",
       "      <td>5255</td>\n",
       "      <td>1986</td>\n",
       "      <td>Graduation</td>\n",
       "      <td>Single</td>\n",
       "      <td>51381</td>\n",
       "      <td>1</td>\n",
       "      <td>0</td>\n",
       "      <td>2013-02-20</td>\n",
       "      <td>19</td>\n",
       "      <td>5</td>\n",
       "      <td>...</td>\n",
       "      <td>AUS</td>\n",
       "      <td>2013</td>\n",
       "      <td>2</td>\n",
       "      <td>2</td>\n",
       "      <td>1</td>\n",
       "      <td>637</td>\n",
       "      <td>28</td>\n",
       "      <td>0</td>\n",
       "      <td>22.750000</td>\n",
       "      <td>Others</td>\n",
       "    </tr>\n",
       "    <tr>\n",
       "      <th>38</th>\n",
       "      <td>10311</td>\n",
       "      <td>1969</td>\n",
       "      <td>Graduation</td>\n",
       "      <td>Married</td>\n",
       "      <td>4428</td>\n",
       "      <td>0</td>\n",
       "      <td>1</td>\n",
       "      <td>2013-10-05</td>\n",
       "      <td>0</td>\n",
       "      <td>16</td>\n",
       "      <td>...</td>\n",
       "      <td>SP</td>\n",
       "      <td>2013</td>\n",
       "      <td>10</td>\n",
       "      <td>5</td>\n",
       "      <td>1</td>\n",
       "      <td>359</td>\n",
       "      <td>26</td>\n",
       "      <td>0</td>\n",
       "      <td>13.807692</td>\n",
       "      <td>Others</td>\n",
       "    </tr>\n",
       "    <tr>\n",
       "      <th>233</th>\n",
       "      <td>4619</td>\n",
       "      <td>1945</td>\n",
       "      <td>PhD</td>\n",
       "      <td>Single</td>\n",
       "      <td>113734</td>\n",
       "      <td>0</td>\n",
       "      <td>0</td>\n",
       "      <td>2014-05-28</td>\n",
       "      <td>9</td>\n",
       "      <td>6</td>\n",
       "      <td>...</td>\n",
       "      <td>SP</td>\n",
       "      <td>2014</td>\n",
       "      <td>5</td>\n",
       "      <td>2</td>\n",
       "      <td>0</td>\n",
       "      <td>277</td>\n",
       "      <td>28</td>\n",
       "      <td>0</td>\n",
       "      <td>9.892857</td>\n",
       "      <td>Others</td>\n",
       "    </tr>\n",
       "    <tr>\n",
       "      <th>321</th>\n",
       "      <td>9303</td>\n",
       "      <td>1976</td>\n",
       "      <td>Graduation</td>\n",
       "      <td>Married</td>\n",
       "      <td>5305</td>\n",
       "      <td>0</td>\n",
       "      <td>1</td>\n",
       "      <td>2013-07-30</td>\n",
       "      <td>12</td>\n",
       "      <td>12</td>\n",
       "      <td>...</td>\n",
       "      <td>IND</td>\n",
       "      <td>2013</td>\n",
       "      <td>7</td>\n",
       "      <td>1</td>\n",
       "      <td>1</td>\n",
       "      <td>32</td>\n",
       "      <td>14</td>\n",
       "      <td>0</td>\n",
       "      <td>2.285714</td>\n",
       "      <td>Others</td>\n",
       "    </tr>\n",
       "    <tr>\n",
       "      <th>347</th>\n",
       "      <td>4931</td>\n",
       "      <td>1977</td>\n",
       "      <td>Graduation</td>\n",
       "      <td>Together</td>\n",
       "      <td>157146</td>\n",
       "      <td>0</td>\n",
       "      <td>0</td>\n",
       "      <td>2013-04-29</td>\n",
       "      <td>13</td>\n",
       "      <td>1</td>\n",
       "      <td>...</td>\n",
       "      <td>SA</td>\n",
       "      <td>2013</td>\n",
       "      <td>4</td>\n",
       "      <td>0</td>\n",
       "      <td>0</td>\n",
       "      <td>1730</td>\n",
       "      <td>29</td>\n",
       "      <td>0</td>\n",
       "      <td>59.655172</td>\n",
       "      <td>Others</td>\n",
       "    </tr>\n",
       "    <tr>\n",
       "      <th>476</th>\n",
       "      <td>3955</td>\n",
       "      <td>1965</td>\n",
       "      <td>Graduation</td>\n",
       "      <td>Divorced</td>\n",
       "      <td>4861</td>\n",
       "      <td>0</td>\n",
       "      <td>0</td>\n",
       "      <td>2014-06-22</td>\n",
       "      <td>20</td>\n",
       "      <td>2</td>\n",
       "      <td>...</td>\n",
       "      <td>SA</td>\n",
       "      <td>2014</td>\n",
       "      <td>6</td>\n",
       "      <td>6</td>\n",
       "      <td>0</td>\n",
       "      <td>6</td>\n",
       "      <td>14</td>\n",
       "      <td>0</td>\n",
       "      <td>0.428571</td>\n",
       "      <td>Others</td>\n",
       "    </tr>\n",
       "    <tr>\n",
       "      <th>681</th>\n",
       "      <td>9931</td>\n",
       "      <td>1963</td>\n",
       "      <td>PhD</td>\n",
       "      <td>Married</td>\n",
       "      <td>4023</td>\n",
       "      <td>1</td>\n",
       "      <td>1</td>\n",
       "      <td>2014-06-23</td>\n",
       "      <td>29</td>\n",
       "      <td>5</td>\n",
       "      <td>...</td>\n",
       "      <td>SP</td>\n",
       "      <td>2014</td>\n",
       "      <td>6</td>\n",
       "      <td>0</td>\n",
       "      <td>2</td>\n",
       "      <td>9</td>\n",
       "      <td>34</td>\n",
       "      <td>0</td>\n",
       "      <td>0.264706</td>\n",
       "      <td>Others</td>\n",
       "    </tr>\n",
       "    <tr>\n",
       "      <th>978</th>\n",
       "      <td>5376</td>\n",
       "      <td>1979</td>\n",
       "      <td>Graduation</td>\n",
       "      <td>Married</td>\n",
       "      <td>2447</td>\n",
       "      <td>1</td>\n",
       "      <td>0</td>\n",
       "      <td>2013-01-06</td>\n",
       "      <td>42</td>\n",
       "      <td>1</td>\n",
       "      <td>...</td>\n",
       "      <td>US</td>\n",
       "      <td>2013</td>\n",
       "      <td>1</td>\n",
       "      <td>6</td>\n",
       "      <td>1</td>\n",
       "      <td>1730</td>\n",
       "      <td>44</td>\n",
       "      <td>0</td>\n",
       "      <td>39.318182</td>\n",
       "      <td>Others</td>\n",
       "    </tr>\n",
       "    <tr>\n",
       "      <th>1304</th>\n",
       "      <td>11110</td>\n",
       "      <td>1973</td>\n",
       "      <td>Graduation</td>\n",
       "      <td>Single</td>\n",
       "      <td>3502</td>\n",
       "      <td>1</td>\n",
       "      <td>0</td>\n",
       "      <td>2013-04-13</td>\n",
       "      <td>56</td>\n",
       "      <td>2</td>\n",
       "      <td>...</td>\n",
       "      <td>IND</td>\n",
       "      <td>2013</td>\n",
       "      <td>4</td>\n",
       "      <td>5</td>\n",
       "      <td>1</td>\n",
       "      <td>5</td>\n",
       "      <td>14</td>\n",
       "      <td>0</td>\n",
       "      <td>0.357143</td>\n",
       "      <td>Others</td>\n",
       "    </tr>\n",
       "    <tr>\n",
       "      <th>1428</th>\n",
       "      <td>10749</td>\n",
       "      <td>1991</td>\n",
       "      <td>Graduation</td>\n",
       "      <td>Single</td>\n",
       "      <td>8028</td>\n",
       "      <td>0</td>\n",
       "      <td>0</td>\n",
       "      <td>2012-09-18</td>\n",
       "      <td>62</td>\n",
       "      <td>73</td>\n",
       "      <td>...</td>\n",
       "      <td>SP</td>\n",
       "      <td>2012</td>\n",
       "      <td>9</td>\n",
       "      <td>1</td>\n",
       "      <td>0</td>\n",
       "      <td>178</td>\n",
       "      <td>35</td>\n",
       "      <td>0</td>\n",
       "      <td>5.085714</td>\n",
       "      <td>Others</td>\n",
       "    </tr>\n",
       "    <tr>\n",
       "      <th>1478</th>\n",
       "      <td>6862</td>\n",
       "      <td>1971</td>\n",
       "      <td>Graduation</td>\n",
       "      <td>Divorced</td>\n",
       "      <td>1730</td>\n",
       "      <td>0</td>\n",
       "      <td>0</td>\n",
       "      <td>2014-05-18</td>\n",
       "      <td>65</td>\n",
       "      <td>1</td>\n",
       "      <td>...</td>\n",
       "      <td>SP</td>\n",
       "      <td>2014</td>\n",
       "      <td>5</td>\n",
       "      <td>6</td>\n",
       "      <td>0</td>\n",
       "      <td>8</td>\n",
       "      <td>35</td>\n",
       "      <td>0</td>\n",
       "      <td>0.228571</td>\n",
       "      <td>Others</td>\n",
       "    </tr>\n",
       "    <tr>\n",
       "      <th>1544</th>\n",
       "      <td>5899</td>\n",
       "      <td>1950</td>\n",
       "      <td>PhD</td>\n",
       "      <td>Together</td>\n",
       "      <td>5648</td>\n",
       "      <td>1</td>\n",
       "      <td>1</td>\n",
       "      <td>2014-03-13</td>\n",
       "      <td>68</td>\n",
       "      <td>28</td>\n",
       "      <td>...</td>\n",
       "      <td>US</td>\n",
       "      <td>2014</td>\n",
       "      <td>3</td>\n",
       "      <td>3</td>\n",
       "      <td>2</td>\n",
       "      <td>49</td>\n",
       "      <td>22</td>\n",
       "      <td>1</td>\n",
       "      <td>2.227273</td>\n",
       "      <td>Others</td>\n",
       "    </tr>\n",
       "    <tr>\n",
       "      <th>1834</th>\n",
       "      <td>5555</td>\n",
       "      <td>1975</td>\n",
       "      <td>Graduation</td>\n",
       "      <td>Divorced</td>\n",
       "      <td>153924</td>\n",
       "      <td>0</td>\n",
       "      <td>0</td>\n",
       "      <td>2014-02-07</td>\n",
       "      <td>81</td>\n",
       "      <td>1</td>\n",
       "      <td>...</td>\n",
       "      <td>SP</td>\n",
       "      <td>2014</td>\n",
       "      <td>2</td>\n",
       "      <td>4</td>\n",
       "      <td>0</td>\n",
       "      <td>6</td>\n",
       "      <td>0</td>\n",
       "      <td>0</td>\n",
       "      <td>inf</td>\n",
       "      <td>Others</td>\n",
       "    </tr>\n",
       "    <tr>\n",
       "      <th>1930</th>\n",
       "      <td>11181</td>\n",
       "      <td>1949</td>\n",
       "      <td>PhD</td>\n",
       "      <td>Married</td>\n",
       "      <td>156924</td>\n",
       "      <td>0</td>\n",
       "      <td>0</td>\n",
       "      <td>2013-08-29</td>\n",
       "      <td>85</td>\n",
       "      <td>2</td>\n",
       "      <td>...</td>\n",
       "      <td>CA</td>\n",
       "      <td>2013</td>\n",
       "      <td>8</td>\n",
       "      <td>3</td>\n",
       "      <td>0</td>\n",
       "      <td>8</td>\n",
       "      <td>0</td>\n",
       "      <td>0</td>\n",
       "      <td>inf</td>\n",
       "      <td>Others</td>\n",
       "    </tr>\n",
       "    <tr>\n",
       "      <th>2204</th>\n",
       "      <td>8475</td>\n",
       "      <td>1973</td>\n",
       "      <td>PhD</td>\n",
       "      <td>Married</td>\n",
       "      <td>157243</td>\n",
       "      <td>0</td>\n",
       "      <td>1</td>\n",
       "      <td>2014-03-01</td>\n",
       "      <td>98</td>\n",
       "      <td>20</td>\n",
       "      <td>...</td>\n",
       "      <td>IND</td>\n",
       "      <td>2014</td>\n",
       "      <td>3</td>\n",
       "      <td>5</td>\n",
       "      <td>1</td>\n",
       "      <td>1608</td>\n",
       "      <td>37</td>\n",
       "      <td>0</td>\n",
       "      <td>43.459459</td>\n",
       "      <td>Others</td>\n",
       "    </tr>\n",
       "  </tbody>\n",
       "</table>\n",
       "<p>15 rows × 37 columns</p>\n",
       "</div>"
      ],
      "text/plain": [
       "         ID  Year_Birth   Education Marital_Status  Income  Kidhome  Teenhome  \\\n",
       "3      5255        1986  Graduation         Single   51381        1         0   \n",
       "38    10311        1969  Graduation        Married    4428        0         1   \n",
       "233    4619        1945         PhD         Single  113734        0         0   \n",
       "321    9303        1976  Graduation        Married    5305        0         1   \n",
       "347    4931        1977  Graduation       Together  157146        0         0   \n",
       "476    3955        1965  Graduation       Divorced    4861        0         0   \n",
       "681    9931        1963         PhD        Married    4023        1         1   \n",
       "978    5376        1979  Graduation        Married    2447        1         0   \n",
       "1304  11110        1973  Graduation         Single    3502        1         0   \n",
       "1428  10749        1991  Graduation         Single    8028        0         0   \n",
       "1478   6862        1971  Graduation       Divorced    1730        0         0   \n",
       "1544   5899        1950         PhD       Together    5648        1         1   \n",
       "1834   5555        1975  Graduation       Divorced  153924        0         0   \n",
       "1930  11181        1949         PhD        Married  156924        0         0   \n",
       "2204   8475        1973         PhD        Married  157243        0         1   \n",
       "\n",
       "     Dt_Customer  Recency  MntWines  ...  Country  Join_year  Join_month  \\\n",
       "3     2013-02-20       19         5  ...      AUS       2013           2   \n",
       "38    2013-10-05        0        16  ...       SP       2013          10   \n",
       "233   2014-05-28        9         6  ...       SP       2014           5   \n",
       "321   2013-07-30       12        12  ...      IND       2013           7   \n",
       "347   2013-04-29       13         1  ...       SA       2013           4   \n",
       "476   2014-06-22       20         2  ...       SA       2014           6   \n",
       "681   2014-06-23       29         5  ...       SP       2014           6   \n",
       "978   2013-01-06       42         1  ...       US       2013           1   \n",
       "1304  2013-04-13       56         2  ...      IND       2013           4   \n",
       "1428  2012-09-18       62        73  ...       SP       2012           9   \n",
       "1478  2014-05-18       65         1  ...       SP       2014           5   \n",
       "1544  2014-03-13       68        28  ...       US       2014           3   \n",
       "1834  2014-02-07       81         1  ...       SP       2014           2   \n",
       "1930  2013-08-29       85         2  ...       CA       2013           8   \n",
       "2204  2014-03-01       98        20  ...      IND       2014           3   \n",
       "\n",
       "      Join_weekday  Minorhome  Total_Mnt  Total_num_purchase  Total_accept  \\\n",
       "3                2          1        637                  28             0   \n",
       "38               5          1        359                  26             0   \n",
       "233              2          0        277                  28             0   \n",
       "321              1          1         32                  14             0   \n",
       "347              0          0       1730                  29             0   \n",
       "476              6          0          6                  14             0   \n",
       "681              0          2          9                  34             0   \n",
       "978              6          1       1730                  44             0   \n",
       "1304             5          1          5                  14             0   \n",
       "1428             1          0        178                  35             0   \n",
       "1478             6          0          8                  35             0   \n",
       "1544             3          2         49                  22             1   \n",
       "1834             4          0          6                   0             0   \n",
       "1930             3          0          8                   0             0   \n",
       "2204             5          1       1608                  37             0   \n",
       "\n",
       "            AOV  Type of shopper  \n",
       "3     22.750000           Others  \n",
       "38    13.807692           Others  \n",
       "233    9.892857           Others  \n",
       "321    2.285714           Others  \n",
       "347   59.655172           Others  \n",
       "476    0.428571           Others  \n",
       "681    0.264706           Others  \n",
       "978   39.318182           Others  \n",
       "1304   0.357143           Others  \n",
       "1428   5.085714           Others  \n",
       "1478   0.228571           Others  \n",
       "1544   2.227273           Others  \n",
       "1834        inf           Others  \n",
       "1930        inf           Others  \n",
       "2204  43.459459           Others  \n",
       "\n",
       "[15 rows x 37 columns]"
      ]
     },
     "execution_count": 42,
     "metadata": {},
     "output_type": "execute_result"
    }
   ],
   "source": [
    "#feature engineering\n",
    "store_shoppers = new_df[new_df.NumStorePurchases>0]\n",
    "store_shoppers = store_shoppers[store_shoppers.AOV <= (store_shoppers.AOV.mean() + 3*store_shoppers.AOV.std())]\n",
    "store_shoppers['Type of shopper'] = 'In-store'\n",
    "other_shoppers = new_df[new_df.NumStorePurchases==0]\n",
    "other_shoppers['Type of shopper'] = 'Others'\n",
    "other_shoppers"
   ]
  },
  {
   "cell_type": "code",
   "execution_count": 43,
   "id": "acfbe2b2",
   "metadata": {
    "scrolled": true
   },
   "outputs": [
    {
     "data": {
      "image/png": "[encoded data removed]",
      "text/plain": [
       "<Figure size 360x432 with 1 Axes>"
      ]
     },
     "metadata": {
      "needs_background": "light"
     },
     "output_type": "display_data"
    }
   ],
   "source": [
    "# plot for average order volume for in-store and others purchase\n",
    "plt.figure(figsize = (5,6))\n",
    "all_shoppers = store_shoppers.append(other_shoppers)\n",
    "sns.boxplot(data = all_shoppers , x= 'Type of shopper', y = 'AOV')\n",
    "plt.ylabel(\"Average Order Volume\")\n",
    "plt.savefig('Images/AOV.png', bbox_inches='tight')"
   ]
  },
  {
   "cell_type": "code",
   "execution_count": 44,
   "id": "3e47ba2d",
   "metadata": {},
   "outputs": [
    {
     "name": "stdout",
     "output_type": "stream",
     "text": [
      "Pearson correlation (r):  0.5505389394031128\n",
      "Pearson p-value:  2.0526348645442993e-177\n"
     ]
    }
   ],
   "source": [
    "from scipy.stats import pearsonr\n",
    "all_shoppers.replace([np.inf, -np.inf], 0, inplace=True)\n",
    "r, p_value  =  pearsonr(x=all_shoppers['AOV'], y=all_shoppers['NumStorePurchases'])\n",
    "\n",
    "# print results\n",
    "print('Pearson correlation (r): ', r)\n",
    "print('Pearson p-value: ', p_value)"
   ]
  },
  {
   "cell_type": "markdown",
   "id": "53995861",
   "metadata": {},
   "source": [
    "### B) Your supervisor insists that people who buy gold are more conservative. Therefore, people who spent an above average amount on gold in the last 2 years would have more in store purchases. \n",
    "Justify or refute this statement using an appropriate statistical test\n",
    "\n",
    "Yes, they are statistically significant that they have positive correlation"
   ]
  },
  {
   "cell_type": "code",
   "execution_count": 45,
   "id": "f525e86f",
   "metadata": {},
   "outputs": [
    {
     "data": {
      "image/png": "[encoded data removed]",
      "text/plain": [
       "<Figure size 432x288 with 1 Axes>"
      ]
     },
     "metadata": {
      "needs_background": "light"
     },
     "output_type": "display_data"
    }
   ],
   "source": [
    "new_df.plot(x='MntGoldProds', y='NumStorePurchases', kind='scatter')\n",
    "plt.title(\"MntGoldProds vs NumStorePurchases\");\n",
    "plt.savefig('Images/MntGoldProds vs NumStorePurchases.png', bbox_inches='tight')"
   ]
  },
  {
   "cell_type": "code",
   "execution_count": 46,
   "id": "4cd7465d",
   "metadata": {},
   "outputs": [
    {
     "name": "stdout",
     "output_type": "stream",
     "text": [
      "Pearson correlation (r):  0.3832641863470429\n",
      "Pearson p-value:  3.4668974417790955e-79\n"
     ]
    }
   ],
   "source": [
    "from scipy.stats import pearsonr\n",
    "\n",
    "r, p_value  =  pearsonr(x=new_df['MntGoldProds'], y=new_df['NumStorePurchases'])\n",
    "\n",
    "# print results\n",
    "print('Pearson correlation (r): ', r)\n",
    "print('Pearson p-value: ', p_value)"
   ]
  },
  {
   "cell_type": "markdown",
   "id": "4d4d3444",
   "metadata": {},
   "source": [
    "`Note: Here you can see that the p value of this test is high so we cannot reject our null hypothesis and the reason for low correlation is maybe caused by the outliers as you can see above`"
   ]
  },
  {
   "cell_type": "code",
   "execution_count": 47,
   "id": "bb1bc7ca",
   "metadata": {},
   "outputs": [
    {
     "name": "stderr",
     "output_type": "stream",
     "text": [
      "\n",
      "A value is trying to be set on a copy of a slice from a DataFrame.\n",
      "Try using .loc[row_indexer,col_indexer] = value instead\n",
      "\n",
      "See the caveats in the documentation: https://pandas.pydata.org/pandas-docs/stable/user_guide/indexing.html#returning-a-view-versus-a-copy\n",
      "\n",
      "A value is trying to be set on a copy of a slice from a DataFrame.\n",
      "Try using .loc[row_indexer,col_indexer] = value instead\n",
      "\n",
      "See the caveats in the documentation: https://pandas.pydata.org/pandas-docs/stable/user_guide/indexing.html#returning-a-view-versus-a-copy\n"
     ]
    },
    {
     "data": {
      "image/png": "[encoded data removed]",
      "text/plain": [
       "<Figure size 288x360 with 1 Axes>"
      ]
     },
     "metadata": {
      "needs_background": "light"
     },
     "output_type": "display_data"
    }
   ],
   "source": [
    "gold_above_avg =  new_df[new_df.MntGoldProds > new_df.MntGoldProds.mean()]\n",
    "gold_above_avg['Gold Purchases Amount'] = \"Above Average\"\n",
    "gold_equ_or_below_avg =  new_df[new_df.MntGoldProds <= new_df.MntGoldProds.mean()]\n",
    "gold_equ_or_below_avg['Gold Purchases Amount'] = \"Equals or Below Average\"\n",
    "\n",
    "plt.figure(figsize = (4, 5))\n",
    "df_gold = gold_above_avg.append(gold_equ_or_below_avg)\n",
    "plt.title(\"2 Gold Purchases Groups\")\n",
    "sns.boxplot(data = df_gold, x = 'Gold Purchases Amount', y = 'NumStorePurchases')\n",
    "plt.ylabel(\"Number of In-Store Purchases\");"
   ]
  },
  {
   "cell_type": "markdown",
   "id": "f252271c",
   "metadata": {},
   "source": [
    "### C) Fish has Omega 3 fatty acids which are good for the brain. Accordingly, do \"Married PhD candidates\" have a significant relation with amount spent on fish? \n",
    "\n",
    "Married PhD spends less on fish products than the rest."
   ]
  },
  {
   "cell_type": "code",
   "execution_count": 48,
   "id": "d79a3c77",
   "metadata": {},
   "outputs": [
    {
     "name": "stderr",
     "output_type": "stream",
     "text": [
      "\n",
      "A value is trying to be set on a copy of a slice from a DataFrame.\n",
      "Try using .loc[row_indexer,col_indexer] = value instead\n",
      "\n",
      "See the caveats in the documentation: https://pandas.pydata.org/pandas-docs/stable/user_guide/indexing.html#returning-a-view-versus-a-copy\n",
      "\n",
      "A value is trying to be set on a copy of a slice from a DataFrame.\n",
      "Try using .loc[row_indexer,col_indexer] = value instead\n",
      "\n",
      "See the caveats in the documentation: https://pandas.pydata.org/pandas-docs/stable/user_guide/indexing.html#returning-a-view-versus-a-copy\n"
     ]
    },
    {
     "data": {
      "image/png": "[encoded data removed]",
      "text/plain": [
       "<Figure size 288x360 with 1 Axes>"
      ]
     },
     "metadata": {
      "needs_background": "light"
     },
     "output_type": "display_data"
    }
   ],
   "source": [
    "# divide the data into two groups: \"married + PhD\" and \"Not Married + Not PHD\"\n",
    "\n",
    "married_phd = new_df[(new_df.Education == \"PhD\") & (new_df.Marital_Status == \"Married\")]\n",
    "married_phd['label'] = \"Married PhD\"\n",
    "the_rest = new_df[(new_df.Education != \"PhD\") | (new_df.Marital_Status != \"Married\")]\n",
    "the_rest['label'] = \"Not Married PhD\"\n",
    "\n",
    "df_combined = married_phd.append(the_rest)\n",
    "plt.figure(figsize = (4, 5))\n",
    "plt.title(\"Married PhD vs the rest\")\n",
    "sns.boxplot(data = df_combined, x = 'label', y = 'MntFishProducts')\n",
    "plt.ylabel(\"Amount spent on fish products\");\n",
    "plt.savefig('Images/Married PhD vs the rest.png', bbox_inches='tight')"
   ]
  },
  {
   "cell_type": "code",
   "execution_count": 49,
   "id": "439aaf2d",
   "metadata": {},
   "outputs": [
    {
     "name": "stdout",
     "output_type": "stream",
     "text": [
      "T-test p-value:  0.005297012242158541\n"
     ]
    }
   ],
   "source": [
    "# use t-test to test these two groups have the same mean\n",
    "from scipy.stats import ttest_ind \n",
    "\n",
    "#This is a two-sided test for the null hypothesis that 2 independent samples have identical average (expected) values. \n",
    "#This test assumes that the populations have identical variances by default.\n",
    "pval = ttest_ind(married_phd.MntFishProducts, the_rest.MntFishProducts).pvalue\n",
    "print(\"T-test p-value: \", pval)"
   ]
  },
  {
   "cell_type": "markdown",
   "id": "595b7d17",
   "metadata": {},
   "source": [
    "> Note: Since p-value is less than 0.05, I concluded that we reject the null hypothesis, meaning that their means are not only different, but the Married Phd's mean is lower than the rest as we can see from the graph."
   ]
  },
  {
   "cell_type": "markdown",
   "id": "db1cfdfc",
   "metadata": {},
   "source": [
    "## 4. Data Visualization"
   ]
  },
  {
   "cell_type": "markdown",
   "id": "920ba33c",
   "metadata": {},
   "source": [
    "### B) What does the average customer look like for this company?\n",
    "\n",
    "An average customer...\n",
    "- has an annual income of 52200 dollars\n",
    "- had purchased 49 days ago\n",
    "- has an AOV of 26.8 dollars\n",
    "- has spent 605 dollars\n",
    "- has purchased 20 times\n",
    "- became a customer in mid-June\n",
    "- became a customer on Thursday\n",
    "- spent most on wines(300 dollars) and then meat products(165 dollars)\n",
    "- spent least on fruit(26 dollars) and sweet products(27 dollars)"
   ]
  },
  {
   "cell_type": "code",
   "execution_count": 50,
   "id": "50949986",
   "metadata": {},
   "outputs": [
    {
     "name": "stderr",
     "output_type": "stream",
     "text": [
      "\n",
      "A value is trying to be set on a copy of a slice from a DataFrame\n",
      "\n",
      "See the caveats in the documentation: https://pandas.pydata.org/pandas-docs/stable/user_guide/indexing.html#returning-a-view-versus-a-copy\n",
      "DataFrame.mean and DataFrame.median with numeric_only=None will include datetime64 and datetime64tz columns in a future version.\n"
     ]
    },
    {
     "data": {
      "text/plain": [
       "ID                      5590.726419\n",
       "Year_Birth              1968.901654\n",
       "Income                 52227.402325\n",
       "Kidhome                    0.444345\n",
       "Teenhome                   0.506482\n",
       "Recency                   49.104604\n",
       "MntWines                 303.995530\n",
       "MntFruits                 26.270451\n",
       "MntMeatProducts          166.916853\n",
       "MntFishProducts           37.523022\n",
       "MntSweetProducts          27.068842\n",
       "MntGoldProds              43.968708\n",
       "NumDealsPurchases          2.326777\n",
       "NumWebPurchases            4.087170\n",
       "NumCatalogPurchases        2.662494\n",
       "NumStorePurchases          5.794367\n",
       "NumWebVisitsMonth          5.319177\n",
       "AcceptedCmp3               0.072865\n",
       "AcceptedCmp4               0.074654\n",
       "AcceptedCmp5               0.072418\n",
       "AcceptedCmp1               0.064372\n",
       "AcceptedCmp2               0.013411\n",
       "Response                   0.149307\n",
       "Complain                   0.008941\n",
       "Join_year               2013.027716\n",
       "Join_month                 6.465802\n",
       "Join_weekday               2.988824\n",
       "Minorhome                  0.950827\n",
       "Total_Mnt                605.743406\n",
       "Total_num_purchase        20.189987\n",
       "Total_accept               0.473849\n",
       "AOV                       26.842831\n",
       "dtype: float64"
      ]
     },
     "execution_count": 50,
     "metadata": {},
     "output_type": "execute_result"
    }
   ],
   "source": [
    "new_df.replace([np.inf, -np.inf], 0, inplace=True)\n",
    "new_df.mean()\n"
   ]
  },
  {
   "cell_type": "markdown",
   "id": "7da23657",
   "metadata": {},
   "source": [
    "### C) Which marketing channels are underperforming?\n",
    "Catalog is the most underperforming channel."
   ]
  },
  {
   "cell_type": "code",
   "execution_count": 51,
   "id": "cd90d2ac",
   "metadata": {},
   "outputs": [
    {
     "data": {
      "text/plain": [
       "Text(-69.5, 0.5, 'Channel')"
      ]
     },
     "execution_count": 51,
     "metadata": {},
     "output_type": "execute_result"
    },
    {
     "data": {
      "image/png": "[encoded data removed]",
      "text/plain": [
       "<Figure size 432x288 with 1 Axes>"
      ]
     },
     "metadata": {
      "needs_background": "light"
     },
     "output_type": "display_data"
    }
   ],
   "source": [
    "new_df[[\"NumWebPurchases\", \"NumCatalogPurchases\", \"NumStorePurchases\"]].sum().sort_values().plot.barh()\n",
    "\n",
    "plt.title(\"Which marketing channels are underperforming?\")\n",
    "plt.xlabel(\"Total number of purchases\")\n",
    "plt.savefig('Images/Underperforming_Channels.png')\n",
    "plt.ylabel(\"Channel\")"
   ]
  },
  {
   "cell_type": "markdown",
   "id": "c16f1e06",
   "metadata": {},
   "source": [
    "## Further Investigation:\n",
    "Now that we know the last campaign is the most successful one, we can further investigate the differences in the customer characteristics and purchases behaviors(listed below) between the most succesful campaing, the last one, and the rest of the campaigns, the campaign 1-5.\n",
    "\n",
    "- Characteristics: 'Year_Birth', 'Income', 'Minorhome', 'Country', 'Join_month', 'Join_weekday'\n",
    "- Purchase behaviors: \n",
    "    - Products: 'MntWines', 'MntFruits', 'MntMeatProducts', 'MntFishProducts', 'MntSweetProducts'\n",
    "    - Channel: 'NumWebPurchases', 'NumCatalogPurchases', 'NumStorePurchases'\n",
    "    - Total: 'Total_Mnt', 'Total_num_purchase', 'AOV'\n"
   ]
  },
  {
   "cell_type": "code",
   "execution_count": 56,
   "id": "44914d5b",
   "metadata": {},
   "outputs": [
    {
     "data": {
      "text/plain": [
       "(334, 2207)"
      ]
     },
     "execution_count": 56,
     "metadata": {},
     "output_type": "execute_result"
    }
   ],
   "source": [
    "last_cp = new_df[new_df.Response > 0]\n",
    "rest_cp = new_df[new_df.AcceptedCmp2 == 0]\n",
    "last_cp.shape[0], rest_cp.shape[0]"
   ]
  },
  {
   "cell_type": "code",
   "execution_count": 60,
   "id": "0530fc32",
   "metadata": {},
   "outputs": [
    {
     "data": {
      "text/plain": [
       "(1893, 36)"
      ]
     },
     "execution_count": 60,
     "metadata": {},
     "output_type": "execute_result"
    }
   ],
   "source": [
    "val = new_df[new_df.AcceptedCmp2==0]\n",
    "val[val.Response == 0].shape"
   ]
  },
  {
   "cell_type": "code",
   "execution_count": 121,
   "id": "c6e48906",
   "metadata": {},
   "outputs": [
    {
     "data": {
      "text/plain": [
       "(334, 1893)"
      ]
     },
     "execution_count": 121,
     "metadata": {},
     "output_type": "execute_result"
    }
   ],
   "source": [
    "# remove the overlapping customers who accepted offers from both last_cp and rest_cp \n",
    "# so that twe can see the clear differences between these two groups\n",
    "cp__the_rest2 = rest_cp\n",
    "for i in list(rest_cp.ID):\n",
    "    if i in list(last_cp.ID):\n",
    "        cp__the_rest2 = cp__the_rest2[cp__the_rest2.ID !=i]\n",
    "        \n",
    "last_cp.shape[0], cp__the_rest2.shape[0]"
   ]
  },
  {
   "cell_type": "code",
   "execution_count": 116,
   "id": "b530b9ee",
   "metadata": {},
   "outputs": [],
   "source": [
    "cp_last = last_cp[['Year_Birth', 'Income', 'Minorhome', 'Country', 'Join_month', 'Join_weekday',\n",
    "                  'MntWines', 'MntFruits', 'MntMeatProducts', 'MntFishProducts', 'MntSweetProducts',\n",
    "                  'NumWebPurchases', 'NumCatalogPurchases', 'NumStorePurchases',\n",
    "                  'Total_Mnt', 'Total_num_purchase', 'AOV']]\n",
    "cp__the_rest2 = cp__the_rest2[['Year_Birth', 'Income', 'Minorhome', 'Country', 'Join_month', 'Join_weekday',\n",
    "                  'MntWines', 'MntFruits', 'MntMeatProducts', 'MntFishProducts', 'MntSweetProducts',\n",
    "                  'NumWebPurchases', 'NumCatalogPurchases', 'NumStorePurchases',\n",
    "                  'Total_Mnt', 'Total_num_purchase', 'AOV']]"
   ]
  },
  {
   "cell_type": "code",
   "execution_count": 117,
   "id": "d2dc5060",
   "metadata": {},
   "outputs": [
    {
     "data": {
      "text/plain": [
       "Year_Birth              1968.901654\n",
       "Income                 52227.402325\n",
       "Minorhome                  0.950827\n",
       "Join_month                 6.465802\n",
       "Join_weekday               2.988824\n",
       "MntWines                 303.995530\n",
       "MntFruits                 26.270451\n",
       "MntMeatProducts          166.916853\n",
       "MntFishProducts           37.523022\n",
       "MntSweetProducts          27.068842\n",
       "NumWebPurchases            4.087170\n",
       "NumCatalogPurchases        2.662494\n",
       "NumStorePurchases          5.794367\n",
       "Total_Mnt                605.743406\n",
       "Total_num_purchase        20.189987\n",
       "AOV                       26.842831\n",
       "dtype: float64"
      ]
     },
     "execution_count": 117,
     "metadata": {},
     "output_type": "execute_result"
    }
   ],
   "source": [
    "new_df2 = new_df[['Year_Birth', 'Income', 'Minorhome', 'Country', 'Join_month', 'Join_weekday',\n",
    "                  'MntWines', 'MntFruits', 'MntMeatProducts', 'MntFishProducts', 'MntSweetProducts',\n",
    "                  'NumWebPurchases', 'NumCatalogPurchases', 'NumStorePurchases',\n",
    "                  'Total_Mnt', 'Total_num_purchase', 'AOV']]\n",
    "new_df2.mean()"
   ]
  },
  {
   "cell_type": "code",
   "execution_count": 118,
   "id": "66e99e0f",
   "metadata": {},
   "outputs": [
    {
     "data": {
      "text/plain": [
       "Text(0, 0.5, 'Characteristics')"
      ]
     },
     "execution_count": 118,
     "metadata": {},
     "output_type": "execute_result"
    },
    {
     "data": {
      "image/png": "[encoded data removed]",
      "text/plain": [
       "<Figure size 720x504 with 1 Axes>"
      ]
     },
     "metadata": {
      "needs_background": "light"
     },
     "output_type": "display_data"
    }
   ],
   "source": [
    "plt.figure(figsize = (10,7))\n",
    "value1 = pd.DataFrame((((cp_last.mean()) - new_df2.mean()) / new_df2.mean())*100)\n",
    "value1.dropna(inplace = True)\n",
    "value1.sort_values(by=0,inplace = True)\n",
    "value1['positive'] = value1[0]>0\n",
    "value1[0].plot(kind='barh', color = value1.positive.map({True: 'green', False: 'red'}))\n",
    "plt.title(\"Customer Characteristics Comparison - Customer in last campaign vs Average customer\")\n",
    "plt.xlabel(\"Difference in %\")\n",
    "plt.ylabel(\"Characteristics\")"
   ]
  },
  {
   "cell_type": "code",
   "execution_count": 119,
   "id": "f34381d0",
   "metadata": {},
   "outputs": [
    {
     "data": {
      "image/png": "[encoded data removed]",
      "text/plain": [
       "<Figure size 648x504 with 1 Axes>"
      ]
     },
     "metadata": {
      "needs_background": "light"
     },
     "output_type": "display_data"
    }
   ],
   "source": [
    "# visualize the differences\n",
    "plt.figure(figsize = (9, 7))\n",
    "value = pd.DataFrame((((cp_last.mean()) - cp__the_rest2.mean()) / cp__the_rest2.mean())*100)\n",
    "value.dropna(inplace = True)\n",
    "value.sort_values(by=0,inplace = True)\n",
    "value['positive'] = value[0] >=0\n",
    "value[0].plot(kind='barh', color=value.positive.map({True: 'navy', False: 'orange'}))\n",
    "plt.title(\"Customer Characteristics Comparison - The last campaign vs Campaign 1-5\")\n",
    "plt.xlabel(\"Difference in %\")\n",
    "plt.ylabel(\"Characteristics\")\n",
    "plt.savefig('Customer Characteristics Comparison - The last campaign vs Campaign 1-5', bbox_inches='tight');"
   ]
  },
  {
   "cell_type": "code",
   "execution_count": 127,
   "id": "0de9bbb7",
   "metadata": {},
   "outputs": [
    {
     "data": {
      "text/html": [
       "<div>\n",
       "<style scoped>\n",
       "    .dataframe tbody tr th:only-of-type {\n",
       "        vertical-align: middle;\n",
       "    }\n",
       "\n",
       "    .dataframe tbody tr th {\n",
       "        vertical-align: top;\n",
       "    }\n",
       "\n",
       "    .dataframe thead th {\n",
       "        text-align: right;\n",
       "    }\n",
       "</style>\n",
       "<table border=\"1\" class=\"dataframe\">\n",
       "  <thead>\n",
       "    <tr style=\"text-align: right;\">\n",
       "      <th></th>\n",
       "      <th>Percent</th>\n",
       "    </tr>\n",
       "  </thead>\n",
       "  <tbody>\n",
       "    <tr>\n",
       "      <th>AUS</th>\n",
       "      <td>6.886228</td>\n",
       "    </tr>\n",
       "    <tr>\n",
       "      <th>CA</th>\n",
       "      <td>11.377246</td>\n",
       "    </tr>\n",
       "    <tr>\n",
       "      <th>GER</th>\n",
       "      <td>5.089820</td>\n",
       "    </tr>\n",
       "    <tr>\n",
       "      <th>IND</th>\n",
       "      <td>3.892216</td>\n",
       "    </tr>\n",
       "    <tr>\n",
       "      <th>ME</th>\n",
       "      <td>0.598802</td>\n",
       "    </tr>\n",
       "    <tr>\n",
       "      <th>SA</th>\n",
       "      <td>15.568862</td>\n",
       "    </tr>\n",
       "    <tr>\n",
       "      <th>SP</th>\n",
       "      <td>52.694611</td>\n",
       "    </tr>\n",
       "    <tr>\n",
       "      <th>US</th>\n",
       "      <td>3.892216</td>\n",
       "    </tr>\n",
       "  </tbody>\n",
       "</table>\n",
       "</div>"
      ],
      "text/plain": [
       "       Percent\n",
       "AUS   6.886228\n",
       "CA   11.377246\n",
       "GER   5.089820\n",
       "IND   3.892216\n",
       "ME    0.598802\n",
       "SA   15.568862\n",
       "SP   52.694611\n",
       "US    3.892216"
      ]
     },
     "execution_count": 127,
     "metadata": {},
     "output_type": "execute_result"
    }
   ],
   "source": [
    "cp_last_country = pd.DataFrame((last_cp.Country.value_counts() / last_cp.shape[0])*100)\n",
    "cp_last_country.rename(columns={'Country': 'Percent'}, inplace=True)\n",
    "cp_last_country['country'] = cp_last_country.index\n",
    "cp_last_country = cp_last_country.sort_values('country')\n",
    "cp_last_country.drop(['country'],axis = 1, inplace = True)\n",
    "cp_last_country"
   ]
  },
  {
   "cell_type": "code",
   "execution_count": 128,
   "id": "38d537a0",
   "metadata": {},
   "outputs": [
    {
     "data": {
      "text/html": [
       "<div>\n",
       "<style scoped>\n",
       "    .dataframe tbody tr th:only-of-type {\n",
       "        vertical-align: middle;\n",
       "    }\n",
       "\n",
       "    .dataframe tbody tr th {\n",
       "        vertical-align: top;\n",
       "    }\n",
       "\n",
       "    .dataframe thead th {\n",
       "        text-align: right;\n",
       "    }\n",
       "</style>\n",
       "<table border=\"1\" class=\"dataframe\">\n",
       "  <thead>\n",
       "    <tr style=\"text-align: right;\">\n",
       "      <th></th>\n",
       "      <th>Percent</th>\n",
       "    </tr>\n",
       "  </thead>\n",
       "  <tbody>\n",
       "    <tr>\n",
       "      <th>AUS</th>\n",
       "      <td>7.237190</td>\n",
       "    </tr>\n",
       "    <tr>\n",
       "      <th>CA</th>\n",
       "      <td>12.097200</td>\n",
       "    </tr>\n",
       "    <tr>\n",
       "      <th>GER</th>\n",
       "      <td>5.335446</td>\n",
       "    </tr>\n",
       "    <tr>\n",
       "      <th>IND</th>\n",
       "      <td>7.025885</td>\n",
       "    </tr>\n",
       "    <tr>\n",
       "      <th>ME</th>\n",
       "      <td>0.052826</td>\n",
       "    </tr>\n",
       "    <tr>\n",
       "      <th>SA</th>\n",
       "      <td>14.896989</td>\n",
       "    </tr>\n",
       "    <tr>\n",
       "      <th>SP</th>\n",
       "      <td>48.283148</td>\n",
       "    </tr>\n",
       "    <tr>\n",
       "      <th>US</th>\n",
       "      <td>5.071315</td>\n",
       "    </tr>\n",
       "  </tbody>\n",
       "</table>\n",
       "</div>"
      ],
      "text/plain": [
       "       Percent\n",
       "AUS   7.237190\n",
       "CA   12.097200\n",
       "GER   5.335446\n",
       "IND   7.025885\n",
       "ME    0.052826\n",
       "SA   14.896989\n",
       "SP   48.283148\n",
       "US    5.071315"
      ]
     },
     "execution_count": 128,
     "metadata": {},
     "output_type": "execute_result"
    }
   ],
   "source": [
    "cp__the_rest2_country = pd.DataFrame((cp__the_rest2.Country.value_counts()/cp__the_rest2.shape[0])*100)\n",
    "cp__the_rest2_country.rename(columns={'Country':'Percent'}, inplace=True)\n",
    "cp__the_rest2_country['country'] = cp__the_rest2_country.index\n",
    "cp__the_rest2_country = cp__the_rest2_country.sort_values('country')\n",
    "cp__the_rest2_country.drop(['country'], axis=1, inplace=True)\n",
    "cp__the_rest2_country"
   ]
  },
  {
   "cell_type": "code",
   "execution_count": 130,
   "id": "2cc144f9",
   "metadata": {},
   "outputs": [
    {
     "data": {
      "image/png": "[encoded data removed]",
      "text/plain": [
       "<Figure size 648x504 with 1 Axes>"
      ]
     },
     "metadata": {
      "needs_background": "light"
     },
     "output_type": "display_data"
    }
   ],
   "source": [
    "country_final = cp_last_country-cp__the_rest2_country\n",
    "\n",
    "# visualize the differences\n",
    "plt.figure(figsize = (9, 7))\n",
    "country_final.sort_values(by=\"Percent\",inplace = True)\n",
    "country_final['positive'] = country_final[\"Percent\"] >=0\n",
    "country_final[\"Percent\"].plot(kind='barh', color=country_final.positive.map({True: 'green', False: 'red'}))\n",
    "plt.title(\"Country Percent Comparison - The last campaign vs Campaign 1-5\")\n",
    "plt.xlabel(\"Difference in %\")\n",
    "plt.ylabel(\"Country\")\n",
    "plt.savefig('Country Percent Comparison - The last campaign vs Campaign 1-5', bbox_inches='tight');"
   ]
  },
  {
   "cell_type": "code",
   "execution_count": null,
   "id": "05f8bd3b",
   "metadata": {},
   "outputs": [],
   "source": []
  }
 ],
 "metadata": {
  "kernelspec": {
   "display_name": "Python 3",
   "language": "python",
   "name": "python3"
  },
  "language_info": {
   "codemirror_mode": {
    "name": "ipython",
    "version": 3
   },
   "file_extension": ".py",
   "mimetype": "text/x-python",
   "name": "python",
   "nbconvert_exporter": "python",
   "pygments_lexer": "ipython3",
   "version": "3.6.13"
  }
 },
 "nbformat": 4,
 "nbformat_minor": 5
}
